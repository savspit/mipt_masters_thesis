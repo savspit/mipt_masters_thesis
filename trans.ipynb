{
 "cells": [
  {
   "cell_type": "code",
   "execution_count": 57,
   "metadata": {},
   "outputs": [
    {
     "name": "stdout",
     "output_type": "stream",
     "text": [
      "jupyterhub-3bcf55a276a1a6-jupyterhub-0\n"
     ]
    }
   ],
   "source": [
    "!hostname"
   ]
  },
  {
   "cell_type": "code",
   "execution_count": 121,
   "metadata": {},
   "outputs": [],
   "source": [
    "import os\n",
    "import torch\n",
    "import torch.nn as nn\n",
    "import torch.nn.functional as F\n",
    "from torch.utils.data import Dataset, DataLoader\n",
    "import torch.optim as optim\n",
    "\n",
    "import pandas as pd\n",
    "import argparse\n",
    "from pytube import YouTube\n",
    "from tqdm import tqdm\n",
    "import cv2\n",
    "import numpy as np\n",
    "import joblib\n",
    "import time\n",
    "\n",
    "from sklearn.preprocessing import LabelBinarizer\n",
    "from sklearn.model_selection import train_test_split\n",
    "\n",
    "import albumentations\n",
    "from PIL import Image\n",
    "\n",
    "import matplotlib\n",
    "import matplotlib.pyplot as plt"
   ]
  },
  {
   "cell_type": "code",
   "execution_count": 59,
   "metadata": {},
   "outputs": [
    {
     "name": "stdout",
     "output_type": "stream",
     "text": [
      "Using cpu device\n"
     ]
    }
   ],
   "source": [
    "device = (\n",
    "    \"cuda\"\n",
    "    if torch.cuda.is_available()\n",
    "    else \"mps\"\n",
    "    if torch.backends.mps.is_available()\n",
    "    else \"cpu\"\n",
    ")\n",
    "print(f\"Using {device} device\")"
   ]
  },
  {
   "cell_type": "code",
   "execution_count": 60,
   "metadata": {},
   "outputs": [
    {
     "data": {
      "text/plain": [
       "{}"
      ]
     },
     "execution_count": 60,
     "metadata": {},
     "output_type": "execute_result"
    }
   ],
   "source": [
    "kwargs = {'num_workers': 1, 'pin_memory': True} if device=='cuda' else {}\n",
    "kwargs"
   ]
  },
  {
   "cell_type": "code",
   "execution_count": 61,
   "metadata": {},
   "outputs": [],
   "source": [
    "DIR_HOME = '/home/jupyter-admin'\n",
    "DIR_DATASETS = DIR_HOME + '/datasets'\n",
    "DIR_DATASET_MSASL = DIR_DATASETS + '/MS-ASL'\n",
    "DIR_VIDEOS = DIR_DATASET_MSASL + '/videos'\n",
    "DIR_IMAGES = DIR_DATASET_MSASL + '/images'"
   ]
  },
  {
   "cell_type": "code",
   "execution_count": 62,
   "metadata": {},
   "outputs": [
    {
     "name": "stdout",
     "output_type": "stream",
     "text": [
      "DIR_HOME: /home/jupyter-admin\n",
      "DIR_DATASETS: /home/jupyter-admin/datasets\n",
      "DIR_DATASET_MSASL: /home/jupyter-admin/datasets/MS-ASL\n",
      "DIR_VIDEOS: /home/jupyter-admin/datasets/MS-ASL/videos\n",
      "DIR_IMAGES: /home/jupyter-admin/datasets/MS-ASL/images\n"
     ]
    }
   ],
   "source": [
    "print(f'DIR_HOME: {DIR_HOME}')\n",
    "print(f'DIR_DATASETS: {DIR_DATASETS}')\n",
    "print(f'DIR_DATASET_MSASL: {DIR_DATASET_MSASL}')\n",
    "print(f'DIR_VIDEOS: {DIR_VIDEOS}')\n",
    "print(f'DIR_IMAGES: {DIR_IMAGES}')"
   ]
  },
  {
   "cell_type": "code",
   "execution_count": 63,
   "metadata": {},
   "outputs": [
    {
     "name": "stdout",
     "output_type": "stream",
     "text": [
      "DIR_HOME: ['Untitled.ipynb', 'shared', 'datasets', '.cache', 'tutorials', '.ipython', '.bash_logout', '.profile', '.ipynb_checkpoints', '.local', '.bashrc', '.jupyter']\n",
      "DIR_DATASETS: ['.ipynb_checkpoints', 'MS-ASL']\n",
      "DIR_DATASET_MSASL: ['MSASL_synonym.json', 'lb.pkl', 'C-UDA-0.1_annotated_discussion.pdf', 'videos', 'MSASL_train.json', 'README.md', 'MSASL_classes.json', 'data.csv', 'MSASL_test.json', '.ipynb_checkpoints', 'images', 'MSASL_val.json']\n",
      "DIR_VIDEOS: ['friend.mp4', 'israel.mp4', 'mustache.mp4', 'deer.mp4', 'brush teeth.mp4', 'date.mp4', 'sew.mp4', 'humble.mp4', 'which.mp4', 'dryer.mp4', 'grandmother.mp4', 'orange.mp4', 'accountant.mp4', 'apartment.mp4', 'tomato.mp4', 'sister.mp4', 'meeting.mp4', 'pants.mp4', 'lawyer.mp4', 'elementary school.mp4', 'year.mp4', 'email.mp4', 'gallaudet.mp4', 'together.mp4', 'wall.mp4', 'throw.mp4', 'who.mp4', 'window.mp4', 'in.mp4', 'line up.mp4', 'meet.mp4', 'give.mp4', 'swimming.mp4', 'knife.mp4', 'dress.mp4', 'university.mp4', 'live.mp4', 'absent.mp4', 'match.mp4', 'how.mp4', 'today.mp4', 'girlfriend.mp4', 'secretary.mp4', 'pay.mp4', 'flower.mp4', 'bye.mp4', 'drive.mp4', 'sign language.mp4', 'cochlear implant.mp4', 'first.mp4', 'arrogant.mp4', 'kitchen.mp4', 'wedding.mp4', 'vice president.mp4', 'sophomore.mp4', 'motorcycle.mp4', 'cheese.mp4', 'strict.mp4', 'next year.mp4', 'sit.mp4', 'depressed.mp4', 'build.mp4', 'stairs.mp4', 'hi.mp4', 'visit.mp4', 'poor.mp4', 'bowl.mp4', 'several.mp4', 'animal.mp4', 'jacket.mp4', 'brown.mp4', 'you.mp4', 'nosy.mp4', 'manager.mp4', 'internet.mp4', 'eye contact.mp4', 'drink.mp4', 'spoon.mp4', 'asl.mp4', 'west.mp4', 'fence.mp4', 'play cardss.mp4', 'hospital.mp4', 'will.mp4', 'meat.mp4', 'jam.mp4', 'cent.mp4', 'hamburger.mp4', 'next week.mp4', 'now.mp4', 'oh i see.mp4', 'late.mp4', 'wait.mp4', 'boat.mp4', 'lion.mp4', 'warm.mp4', 'run.mp4', 'locker.mp4', 'sad.mp4', 'therapy.mp4', 'four.mp4', 'inform.mp4', 'back.mp4', 'again.mp4', 'duck.mp4', 'about.mp4', 'refuse.mp4', 'nuts.mp4', 'game.mp4', 'spring up.mp4', 'study.mp4', 'challenge.mp4', 'take care.mp4', 'show.mp4', 'elevator.mp4', 'he.mp4', 'paint.mp4', 'pear.mp4', 'false.mp4', 'tape.mp4', 'serious.mp4', 'camp.mp4', 'dirty.mp4', 'get up.mp4', 'only.mp4', 'thanksgiving.mp4', 'less than.mp4', 'last week.mp4', 'new.mp4', 'push.mp4', 'engineering.mp4', 'east.mp4', 'easy.mp4', 'hour.mp4', 'bright.mp4', 'microwave.mp4', 'china.mp4', 'nine.mp4', 'children.mp4', 'discuss.mp4', 'die.mp4', 'six.mp4', 'skiing.mp4', 'screwdriver.mp4', 'bedroom.mp4', 'face.mp4', 'skirt.mp4', 'like.mp4', 'cafeteria.mp4', 'work.mp4', 'man.mp4', 'ireland.mp4', 'clothes.mp4', 'near.mp4', 'government.mp4', 'step.mp4', 'cousin.mp4', 'camera.mp4', 'daughter.mp4', 'afraid.mp4', 'exam.mp4', 'beer.mp4', 'lettuce.mp4', 'living room.mp4', 'personality.mp4', 'snake.mp4', 'bank.mp4', 'break up.mp4', 'shrimp.mp4', 'area.mp4', 'busy.mp4', 'noon.mp4', 'fun.mp4', 'few.mp4', 'freeway.mp4', 'thirteen.mp4', 'not like.mp4', 'long hair.mp4', 'take off.mp4', 'win.mp4', 'relationship.mp4', 'ring.mp4', 'not know.mp4', 'sorry.mp4', 'expensive.mp4', 'rain.mp4', 'niece.mp4', 'iran.mp4', 'france.mp4', 'norway.mp4', 'tree.mp4', 'vacuum.mp4', 'soon.mp4', 'bad.mp4', 'nice.mp4', 'short.mp4', 'canada.mp4', 'send.mp4', 'laundry.mp4', 'tennis.mp4', 'slide.mp4', 'wood.mp4', 'shark.mp4', 'open.mp4', 'thanks.mp4', 'doctor.mp4', 'silver.mp4', 'walk.mp4', 'finland.mp4', 'tell.mp4', 'wash face.mp4', 'name.mp4', 'shelves.mp4', 'salt.mp4', 'dollar.mp4', 'change.mp4', 'snowboard.mp4', 'drop.mp4', 'major.mp4', 'want.mp4', 'flat tire.mp4', 'same.mp4', 'meaning.mp4', 'christmas.mp4', 'fifteen.mp4', 'breakfast.mp4', 'shy.mp4', 'metal.mp4', 'every morning.mp4', 'ticket.mp4', 'biology.mp4', 'answer.mp4', 'rabbit.mp4', 'crazy.mp4', 'introduce.mp4', 'far.mp4', 'loan.mp4', 'gas.mp4', 'silly.mp4', 'japan.mp4', 'still.mp4', 'cracker.mp4', 'grandfather.mp4', 'not understand.mp4', 'nice to meet you.mp4', 'bread.mp4', 'people.mp4', 'lazy.mp4', 'happen.mp4', 'bitter.mp4', 'birthday.mp4', 'grey.mp4', 'wow.mp4', 'eyeglasses.mp4', 'jump.mp4', 'listen.mp4', 'whale.mp4', 'lost.mp4', 'sweet.mp4', 'stay.mp4', 'wine.mp4', 'mean.mp4', 'wrong.mp4', 'yearbook.mp4', 'card.mp4', 'ﬁnish.mp4', 'mother.mp4', 'two.mp4', 'save.mp4', 'bear.mp4', 'stuck.mp4', 'single.mp4', 'couch.mp4', 'turkey.mp4', 'gym.mp4', 'enjoy.mp4', 'weak.mp4', 'curious.mp4', 'worry.mp4', 'ski.mp4', 'search.mp4', 'monkey.mp4', 'many.mp4', 'psychologist.mp4', 'five.mp4', 'pineapple.mp4', 'proud.mp4', 'scotland.mp4', 'best friend.mp4', 'laugh.mp4', 'marry.mp4', 'spider.mp4', 'weekend.mp4', 'see.mp4', 'classroom.mp4', 'happy.mp4', 'calendar.mp4', 'goat.mp4', 'hate.mp4', 'free.mp4', 'culture.mp4', 'chemistry.mp4', 'scissors.mp4', 'cheap.mp4', 'piano.mp4', 'draw.mp4', 'where.mp4', 'their.mp4', 'toast.mp4', 'hat.mp4', 'australia.mp4', 'easter.mp4', 'need.mp4', 'asia.mp4', 'garage.mp4', 'cabinets.mp4', 'sore throat.mp4', 'march.mp4', 'squirrel.mp4', 'fox.mp4', 'make.mp4', 'pshaw.mp4', 'last year.mp4', 'dry.mp4', 'artist.mp4', 'old.mp4', 'awful.mp4', 'nineteen.mp4', 'our.mp4', 'rude.mp4', 'buy.mp4', 'one.mp4', 'check.mp4', 'negative.mp4', 'rest.mp4', 'sneeze.mp4', 'never.mp4', 'wish.mp4', 'break.mp4', 'read.mp4', 'light.mp4', 'dorm.mp4', 'mirror.mp4', 'steal.mp4', 'stop.mp4', 'hear.mp4', 'disgusted.mp4', 'sugar.mp4', 'funny.mp4', 'cloud.mp4', 'up.mp4', 'gone.mp4', 'milk.mp4', 'sixteen.mp4', 'earn.mp4', 'child.mp4', 'father.mp4', 'south america.mp4', 'during.mp4', 'write.mp4', 'strange.mp4', 'credit card.mp4', 'sports.mp4', 'every year.mp4', 'research.mp4', 'long ago.mp4', 'philippines.mp4', 'nervous.mp4', 'house.mp4', 'freeze cream.mp4', 'aunt.mp4', 'quiet.mp4', 'steak.mp4', 'ball.mp4', 'saturday.mp4', 'stupid.mp4', 'husband.mp4', 'often.mp4', 'plan.mp4', 'flirt.mp4', 'bookstore.mp4', 'baseball.mp4', 'pick up.mp4', 'hungry.mp4', 'mexico.mp4', 'car.mp4', 'smart.mp4', 'junior.mp4', 'girl.mp4', 'next.mp4', 'also.mp4', 'church.mp4', 'volleyball.mp4', 'explain.mp4', 'ugly.mp4', 'important.mp4', 'portugal.mp4', 'start.mp4', 'soup.mp4', 'movie.mp4', 'scarf.mp4', 'hippo.mp4', 'focus.mp4', 'come.mp4', 'not yet.mp4', 'call.mp4', 'sometimes.mp4', 'computer.mp4', 'interpreter.mp4', 'surfing.mp4', 'umbrella.mp4', 'give ticket.mp4', 'pull.mp4', 'yellow.mp4', 'around.mp4', 'careful.mp4', 'how are you.mp4', 'denmark.mp4', 'feel.mp4', 'night.mp4', 'every night.mp4', 'water.mp4', 'iraq.mp4', 'time.mp4', 'painting.mp4', 'ready.mp4', 'alarm.mp4', 'carrot.mp4', 'angry.mp4', 'engineer.mp4', 'butterfly.mp4', 'dizzy.mp4', 'parents.mp4', 'they.mp4', 'beard.mp4', 'wife.mp4', 'snob.mp4', 'giraffe.mp4', 'sink.mp4', 'grapes.mp4', 'vegetable.mp4', 'candle.mp4', 'pepper.mp4', 'lonely.mp4', 'closet.mp4', 'emotional.mp4', 'jail.mp4', 'soap.mp4', 'accept.mp4', 'police.mp4', 'hanukkah.mp4', 'furniture.mp4', 'please.mp4', 'senior.mp4', 'towel.mp4', 'turtle.mp4', 'newspaper.mp4', 'leave.mp4', 'play.mp4', 'sweep.mp4', 'love.mp4', 'my.mp4', 'get.mp4', 'lamp.mp4', 'bed.mp4', 'mouth.mp4', 'horse.mp4', 'ten.mp4', 'with.mp4', 'headache.mp4', 'bake.mp4', 'shirt.mp4', 'take up.mp4', 'geometry.mp4', 'fourteen.mp4', 'frustrated.mp4', 'we.mp4', 'guilty.mp4', 'surf.mp4', 'worm.mp4', 'butter.mp4', 'arrive.mp4', 'teach.mp4', 'twins.mp4', 'stand.mp4', 'pancake.mp4', 'week.mp4', 'spanish.mp4', 'slow.mp4', 'vacation.mp4', 'fight.mp4', 'lunch.mp4', 'spell.mp4', 'young.mp4', 'store.mp4', 'future.mp4', 'fingerspell.mp4', 'cow.mp4', 'sandwich.mp4', 'ketchup.mp4', 'language.mp4', 'sell.mp4', 'sweetheart.mp4', 'school.mp4', 'snow.mp4', 'help.mp4', 'switzerland.mp4', 'dinner.mp4', 'gold.mp4', 'what.mp4', 'library.mp4', 'seven.mp4', 'separate.mp4', 'cookie.mp4', 'twelve.mp4', 'army.mp4', 'awkward.mp4', 'gossip.mp4', 'stove.mp4', 'tend.mp4', 'ears.mp4', 'tall.mp4', 'chat.mp4', 'eat.mp4', 'maybe.mp4', 'center school.mp4', 'vomit.mp4', 'football.mp4', 'europe.mp4', 'police officer.mp4', 'television.mp4', 'psychology.mp4', 'wet.mp4', 'every afternoon.mp4', 'office.mp4', 'ﬁshing.mp4', 'photographer.mp4', 'sick.mp4', 'delicious.mp4', 'dresser.mp4', 'freeze.mp4', 'shelf.mp4', 'wednesday.mp4', 'thursday.mp4', 'golf.mp4', 'last month.mp4', 'table.mp4', 'appearance.mp4', 'india.mp4', 'close.mp4', 'fire.mp4', 'bacon.mp4', 'bald.mp4', 'hurry.mp4', 'magazine.mp4', 'cake.mp4', 'grocery store.mp4', 'dark.mp4', 'glass.mp4', 'but.mp4', 'minute.mp4', 'clock.mp4', 'student.mp4', 'have.mp4', 'group.mp4', 'winter.mp4', 'college.mp4', 'forget.mp4', 'center.mp4', 'if.mp4', 'follow.mp4', 'mainstreamed.mp4', 'tuesday.mp4', 'good morning.mp4', 'germany.mp4', 'some.mp4', 'accident.mp4', 'nephew.mp4', 'bus.mp4', 'coffee.mp4', 'lie.mp4', 'go.mp4', 'measure.mp4', 'understand.mp4', 'juice.mp4', 'key.mp4', 'letter.mp4', 'short hair.mp4', 'teacher.mp4', 'both.mp4', 'tomorrow.mp4', 'fast.mp4', 'midnight.mp4', 'left.mp4', 'russia.mp4', 'month.mp4', 'nothing.mp4', 'candy.mp4', 'onion.mp4', 'there.mp4', 'heart.mp4', 'dish.mp4', 'picture.mp4', 'transfer.mp4', 'america.mp4', 'hard.mp4', 'cat.mp4', 'bath.mp4', 'judge.mp4', 'true.mp4', 'mouse.mp4', 'spaghetti.mp4', 'envelope.mp4', 'train.mp4', 'basketball.mp4', 'law.mp4', 'calculus.mp4', 'home.mp4', 'schedule.mp4', 'intersection.mp4', 'that.mp4', 'cool.mp4', 'full.mp4', 'know.mp4', 'embarrassed.mp4', 'cry.mp4', 'hard of hearing.mp4', 'go to.mp4', 'purchase.mp4', 'seventeen.mp4', 'green.mp4', 'boots.mp4', 'partner.mp4', 'copy me.mp4', 'freshman.mp4', 'after.mp4', 'actor.mp4', 'welcome.mp4', 'cuba.mp4', 'become.mp4', 'strong.mp4', 'bicycle.mp4', 'speech.mp4', 'cute.mp4', 'underwear.mp4', 'ocean.mp4', 'glue.mp4', 'pregnant.mp4', 'disappear.mp4', 'science.mp4', 'celebrate.mp4', 'cereal.mp4', 'holland.mp4', 'fish.mp4', 'me.mp4', 'cooking.mp4', 'puerto rico.mp4', 'for.mp4', 'last.mp4', 'upset.mp4', 'potato.mp4', 'clear.mp4', 'traffic.mp4', 'more.mp4', 'different.mp4', 'fix.mp4', 'uncle.mp4', 'adult.mp4', 'librarian.mp4', 'graduate.mp4', 'down.mp4', 'good.mp4', 'pig.mp4', 'every week.mp4', 'thin.mp4', 'good afternoon.mp4', 'lobster.mp4', 'do.mp4', 'ok.mp4', 'sleepy.mp4', 'inside.mp4', 'country.mp4', 'shop.mp4', 'sunday.mp4', 'swim.mp4', 'hotel.mp4', 'trigonometry.mp4', 'ask.mp4', 'pillow.mp4', 'soccer.mp4', '.ipynb_checkpoints', 'adopt.mp4', 'tired.mp4', 'peach.mp4', 'fail.mp4', 'boss.mp4', 'medium.mp4', 'sweden.mp4', 'list.mp4', 'deaf.mp4', 'cough.mp4', 'fishing.mp4', 'greece.mp4', 'innocent.mp4', 'sheep.mp4', 'frog.mp4', 'english.mp4', 'gum.mp4', 'mechanic.mp4', 'take.mp4', 'favorite.mp4', 'nurse.mp4', 'hoddog.mp4', 'high school.mp4', 'history.mp4', 'shower.mp4', 'not.mp4', 'halloween.mp4', 'travel.mp4', 'skateboard.mp4', 'firefighter.mp4', 'appointment.mp4', 'black.mp4', 'bathroom.mp4', 'friendly.mp4', 'interesting.mp4', 'go steady.mp4', 'dog.mp4', 'autumn in love.mp4', 'banana.mp4', 'apple.mp4', 'not want.mp4', 'engaged.mp4', 'TALK.mp4', 'janitor.mp4', 'front.mp4', 'shock.mp4', 'purple.mp4', 'hockey.mp4', 'island.mp4', 'blanket.mp4', 'his.mp4', 'money.mp4', 'africa.mp4', 'polite.mp4', 'three.mp4', 'equal.mp4', 'boy.mp4', 'stamp.mp4', 'pass.mp4', 'team.mp4', 'jealous.mp4', 'long.mp4', 'street.mp4', 'restaurant.mp4', 'emergency.mp4', 'morning.mp4', 'watch.mp4', 'summer.mp4', 'dolphin.mp4', 'since.mp4', 'eyes.mp4', 'son.mp4', 'watermelon.mp4', 'ice-skating.mp4', 'tie.mp4', 'business.mp4', 'must.mp4', 'baby.mp4', 'spain.mp4', 'dentist.mp4', 'gasoline.mp4', 'roommate.mp4', 'musician.mp4', 'exercise.mp4', 'hello.mp4', 'love it.mp4', 'dictionary.mp4', 'party.mp4', 'so.mp4', 'sun.mp4', 'blue.mp4', 'mischievous.mp4', 'bird.mp4', 'france fries.mp4', 'boring.mp4', 'from.mp4', 'truck.mp4', 'book.mp4', 'eighteen.mp4', 'cold.mp4', 'color.mp4', 'radio.mp4', 'early.mp4', 'minus.mp4', 'your.mp4', 'surprise.mp4', 'remember.mp4', 'algebra.mp4', 'bat.mp4', 'egg.mp4', 'bathtub.mp4', 'mushroom.mp4', 'white.mp4', 'boyfriend.mp4', 'drawer.mp4', 'elephant.mp4', 'soda.mp4', 'everyday.mp4', 'in law.mp4', 'rubber.mp4', 'all day.mp4', 'half.mp4', 'nose.mp4', 'education.mp4', 'brother.mp4', 'taiwan.mp4', 'find.mp4', 'oversleep.mp4', 'before.mp4', 'born.mp4', 'out.mp4', 'hearing.mp4', 'moon.mp4', 'student center.mp4', 'motivated.mp4', 'hallway.mp4', 'hit.mp4', 'here.mp4', 'sign.mp4', 'all morning.mp4', 'come on.mp4', 'acquire.mp4', 'hid.mp4', 'most.mp4', 'pencil.mp4', 'believe.mp4', 'curly hair.mp4', 'bored.mp4', 'when.mp4', 'austria.mp4', 'divorce.mp4', 'chocolate.mp4', 'river.mp4', 'counselor.mp4', 'sweater.mp4', 'principal.mp4', 'weather.mp4', 'annoy.mp4', 'red.mp4', 'perfect.mp4', 'argentina.mp4', 'autumn.mp4', 'look at.mp4', 'tiger.mp4', 'always.mp4', 'and.mp4', 'broke.mp4', 'thirsty.mp4', 'practice.mp4', 'hike.mp4', 'dining room.mp4', 'city.mp4', 'fly.mp4', 'lake.mp4', 'family.mp4', 'bowling.mp4', 'small.mp4', 'big.mp4', 'lousy.mp4', 'waiter.mp4', 'gray.mp4', 'apply.mp4', 'dessert.mp4', 'flag.mp4', 'destroy.mp4', 'hair.mp4', 'popcorn.mp4', 'chef.mp4', 'number.mp4', 'past.mp4', 'hong kong.mp4', 'later.mp4', 'subway.mp4', 'kiss.mp4', 'retire.mp4', 'museum.mp4', 'scientist.mp4', 'eight.mp4', 'dumb.mp4', 'that one.mp4', 'i.mp4', 'put_down.mp4', 'no.mp4', 'day.mp4', 'all night.mp4', 'beautiful.mp4', 'star.mp4', 'should.mp4', 'airplane.mp4', 'corn.mp4', 'pink.mp4', 'cashier.mp4', 'half hour.mp4', 'stubborn.mp4', 'basement.mp4', 'pow.mp4', 'excited.mp4', 'pool.mp4', \"what's up.mp4\", 'fine.mp4', 'brave.mp4', 'athlete.mp4', 'question.mp4', 'swing.mp4', 'complain.mp4', 'door.mp4', 'backpack.mp4', 'better.mp4', 'pumpkin.mp4', 'lemon.mp4', 'chicken.mp4', 'total.mp4', 'grass.mp4', 'sleep.mp4', 'room.mp4', 'socks.mp4', 'famous.mp4', 'mix.mp4', 'excuse me.mp4', 'curtains.mp4', 'disappointed.mp4', 'music.mp4', \"can't.mp4\", 'north.mp4', 'physics.mp4', 'can.mp4', 'head.mp4', 'due.mp4', 'rich.mp4', 'plus.mp4', 'south africa.mp4', 'dance.mp4', 'finish.mp4', 'pizza.mp4', 'spring.mp4', 'i love you.mp4', 'look like.mp4', 'plate.mp4', 'homework.mp4', 'cherry.mp4', 'strawberry.mp4', 'tea.mp4', 'woman.mp4', 'hill.mp4', 'pet.mp4', 'rock.mp4', 'loud.mp4', 'bug.mp4', 'yesterday.mp4', 'poland.mp4', 'mad.mp4', 'hold on.mp4', 'outside.mp4', 'think.mp4', 'positive.mp4', 'korea.mp4', 'health.mp4', 'wake up.mp4', 'earthquake.mp4', 'alone.mp4', 'lead.mp4', 'hashtag.mp4', 'monday.mp4', 'egypt.mp4', 'world.mp4', 'quarter.mp4', 'glasses.mp4', 'theater.mp4', 'decide.mp4', 'cup.mp4', 'friday.mp4', 'how_many.mp4', 'beach.mp4', 'building.mp4', 'why.mp4', 'use.mp4', 'melon.mp4', 'twenty.mp4', 'shoes.mp4', 'camping.mp4', 'afternoon.mp4', 'cost.mp4', 'more than.mp4', 'phone.mp4', 'example.mp4', 'thank you.mp4', 'italy.mp4', 'economics.mp4', 'class.mp4', 'confused.mp4', 'learn.mp4', 'paper.mp4', 'photography.mp4', 'rainbow.mp4', 'comfortable.mp4', 'argue.mp4', 'crash.mp4', 'all.mp4', 'copy.mp4', 'gymnastics.mp4', 'floor.mp4', 'cook.mp4', 'medicine.mp4', 'math.mp4', 'yes.mp4', 'salad.mp4', 'refrigerator.mp4', 'hot.mp4', 'vietnam.mp4', 'seem.mp4', 'mountain.mp4', 'fat.mp4', 'belt.mp4', 'hurt.mp4', 'pie.mp4', 'hearing help.mp4', 'south.mp4', 'fruit.mp4', 'eleven.mp4', 'any.mp4', 'join.mp4']\n",
      "DIR_IMAGES: ['eighteen', 'fight', 'son', 'quarter', 'juice', 'beautiful', 'soccer', 'true', 'interpreter', 'everyday', 'physics', 'computer', 'hungry', 'bored', 'sugar', 'culture', 'not understand', 'old', 'glass', 'why', 'music', 'transfer', 'next', 'walk', 'army', 'negative', 'every morning', 'athlete', 'wake up', 'weak', 'butterfly', 'dumb', 'oversleep', 'his', 'yesterday', 'student', 'hockey', 'algebra', 'gray', 'calendar', 'building', 'tuesday', 'enjoy', 'hard of hearing', 'explain', 'sixteen', 'skateboard', 'vice president', 'church', 'envelope', 'lake', 'snowboard', 'gym', 'stamp', 'snow', 'small', 'engineer', 'swim', 'find', 'rabbit', 'sleep', 'how_many', 'actor', 'join', 'dorm', 'cookie', 'loan', 'strange', 'shop', 'your', 'center', 'name', 'accept', 'roommate', 'twelve', 'mother', 'junior', 'apartment', 'pool', 'cute', 'loud', 'mushroom', 'last month', 'europe', 'sweet', 'sink', 'italy', 'give ticket', 'father', 'out', 'look like', 'in', 'hippo', 'high school', 'measure', 'candle', 'corn', 'fifteen', 'since', 'good', 'worm', 'dark', 'wrong', 'learn', 'health', 'pancake', 'seventeen', 'africa', 'sister', 'total', 'wash face', 'blanket', 'sports', 'nose', 'iraq', 'radio', 'hello', 'angry', 'time', 'phone', 'rainbow', 'listen', 'hot', 'call', 'summer', 'tend', 'there', 'interesting', 'favorite', 'pie', 'equal', 'seven', 'have', 'cherry', 'dictionary', 'far', 'scientist', 'disgusted', 'pineapple', 'finish', 'left', 'cough', 'mustache', 'shower', 'alarm', 'janitor', \"what's up\", 'key', 'grapes', 'purple', 'gasoline', 'bear', 'curtains', 'train', 'team', 'taiwan', 'funny', 'good afternoon', 'engaged', 'their', 'bathtub', 'dolphin', 'nineteen', 'brush teeth', 'beach', 'disappointed', 'stupid', 'cheap', 'sign', 'freeze cream', 'future', 'bird', 'boy', 'hearing', 'sweep', 'store', 'korea', 'curious', 'toast', 'bake', 'every year', 'thin', 'me', 'good morning', 'adult', 'tomato', 'vomit', 'girlfriend', 'change', 'wednesday', 'partner', 'elephant', 'south', 'dance', 'comfortable', 'broke', 'senior', 'thank you', 'outside', 'snob', 'trigonometry', 'who', 'save', 'medicine', 'mechanic', 'cook', 'south africa', 'asia', 'soup', 'motorcycle', 'stay', 'business', 'banana', 'birthday', 'tea', 'full', 'not', 'yes', 'white', 'i', 'give', 'think', 'sell', 'blue', 'celebrate', 'ugly', 'but', 'young', 'march', 'sign language', 'match', 'become', 'movie', 'magazine', 'chicken', 'israel', 'we', 'grass', 'lemon', 'innocent', 'boring', 'quiet', 'hit', 'nephew', 'long', 'rubber', 'carrot', 'leave', 'lousy', 'secretary', 'minus', 'for', 'remember', 'copy me', 'absent', 'stop', 'TALK', 'silver', 'tired', 'bathroom', 'baseball', 'fly', 'often', 'cuba', 'autumn', 'rest', 'student center', 'fat', 'all morning', 'flower', 'classroom', 'dress', 'most', 'mouth', 'apple', 'also', 'breakfast', 'practice', 'tiger', 'embarrassed', 'waiter', 'traffic', 'read', 'purchase', 'chemistry', 'love it', 'police officer', 'librarian', 'later', 'line up', 'wall', 'pumpkin', 'fail', 'many', 'disappear', 'university', 'mischievous', 'ice-skating', 'beard', 'pencil', 'english', 'five', 'buy', 'cry', 'hair', 'kiss', 'party', 'adopt', 'deaf', 'important', 'whale', 'yellow', 'smart', 'india', 'basement', 'argue', 'sleepy', 'lawyer', 'cracker', 'boots', 'dessert', 'gold', 'switzerland', 'cold', 'introduce', 'theater', 'mainstreamed', 'long ago', 'up', 'go to', 'center school', 'ok', 'feel', 'paper', 'here', 'tie', 'stove', 'lobster', 'awkward', 'piano', 'airplane', 'ski', 'frustrated', 'go steady', 'sunday', 'bug', 'hear', 'poland', 'cabinets', 'better', 'appearance', 'color', 'welcome', 'pshaw', 'socks', 'popcorn', 'hill', 'from', 'glue', 'three', 'country', 'follow', 'marry', 'spider', 'spring', 'fingerspell', 'flat tire', 'want', 'friday', 'fine', 'no', 'pregnant', 'around', 'drawer', 'slow', 'painting', 'eyes', 'baby', 'month', 'close', 'cereal', 'how are you', 'single', 'sandwich', 'floor', 'firefighter', 'underwear', 'bookstore', 'brother', 'ﬁshing', 'all', 'museum', 'stuck', 'different', 'nice to meet you', 'wet', 'seem', 'australia', 'lamp', 'love', 'mad', 'come', 'pow', 'they', 'strawberry', 'light', 'pet', 'dentist', 'mouse', 'believe', 'more', 'put_down', 'more than', 'cloud', 'water', 'last', 'thursday', 'draw', 'girl', 'river', 'france fries', 'wedding', 'how', 'not yet', 'travel', 'history', 'bat', 'monday', 'sun', 'ﬁnish', 'peach', 'turtle', 'bye', 'major', 'lunch', 'weather', 'swimming', 'butter', 'lazy', 'every night', 'soap', 'motivated', 'plate', 'gas', 'last year', 'towel', 'together', 'holland', 'spain', 'metal', 'bath', 'bicycle', 'mix', 'deer', 'graduate', 'dryer', 'green', 'rich', 'mountain', 'restaurant', 'frog', 'mirror', 'inside', 'gum', 'psychology', 'when', 'search', 'clear', 'fish', 'delicious', 'hike', 'principal', 'email', 'earthquake', 'check', 'science', 'still', 'scissors', 'refrigerator', 'wish', 'short hair', 'surprise', 'hong kong', 'ticket', 'moon', 'shock', 'friend', 'greece', 'finland', 'destroy', 'go', 'crazy', 'geometry', 'goat', 'any', 'never', 'speech', 'grandfather', 'pepper', 'star', 'hashtag', 'golf', 'bacon', 'chef', 'psychologist', 'gossip', 'plus', 'make', 'midnight', 'down', 'money', 'giraffe', 'night', 'bus', 'portugal', 'get', 'stubborn', 'hid', 'cost', 'pillow', 'friendly', 'accident', 'yearbook', 'germany', 'come on', 'vacation', 'truck', 'arrogant', 'door', 'guilty', 'vietnam', 'gallaudet', 'vegetable', 'excited', 'rock', 'dry', 'biology', 'ketchup', 'lost', 'fire', 'teacher', 'car', 'some', 'big', 'austria', 'photographer', 'city', 'easter', 'should', 'cashier', 'decide', 'sweetheart', 'cool', 'both', 'happy', 'hate', 'can', 'horse', 'born', 'take', 'and', 'north', 'sometimes', 'potato', 'japan', 'dizzy', 'lonely', 'hoddog', 'morning', 'list', 'look at', 'with', 'grey', 'kitchen', 'monkey', 'library', 'two', 'couch', 'one', 'research', 'musician', 'break', 'chat', 'flirt', 'television', 'argentina', 'curly hair', 'surf', 'ocean', 'do', 'law', 'home', 'all day', 'boyfriend', 'ten', 'annoy', 'onion', 'half hour', 'schedule', 'what', 'card', 'afternoon', 'hallway', 'calculus', 'fourteen', 'alone', 'wine', 'people', 'take up', 'volleyball', 'freeze', 'after', 'hearing help', 'brave', 'school', 'newspaper', 'tall', 'live', 'free', 'jump', 'hold on', 'play', 'tell', 'steak', 'jail', 'eyeglasses', 'husband', 'separate', 'swing', 'hotel', 'photography', 'group', 'dining room', 'example', 'sore throat', 'autumn in love', 'weekend', 'cow', 'eleven', 'question', 'squirrel', 'emotional', 'candy', 'sneeze', 'thirsty', 'today', 'math', 'answer', 'upset', 'hurt', 'window', 'sweden', 'twins', 'bowling', 'world', 'umbrella', 'russia', 'glasses', 'salad', 'exercise', 'day', 'bitter', 'jealous', 'belt', 'if', 'bed', 'camping', 'sophomore', 'hat', 'dinner', 'woman', 'due', 'intersection', 'table', 'number', 'ears', 'stand', 'aunt', 'earn', 'apply', 'subway', 'i love you', 'furniture', 'tomorrow', 'divorce', 'class', 'must', 'football', 'shoes', 'sheep', 'fruit', 'room', 'happen', 'parents', 'surfing', 'focus', 'elementary school', 'clock', 'throw', 'freshman', 'copy', 'pay', 'mean', 'early', 'homework', 'winter', 'egg', 'understand', 'coffee', 'pink', 'before', 'pick up', 'year', 'during', 'family', 'garage', 'always', 'polite', 'complain', 'spell', 'drive', 'laugh', 'pizza', 'gymnastics', 'not want', 'milk', 'plan', 'all night', 'america', 'sew', 'watermelon', 'house', 'crash', 'closet', 'bread', 'island', 'ball', 'write', 'college', 'sick', 'retire', 'child', 'appointment', 'salt', 'fix', 'which', 'nervous', 'worry', 'shelf', 'scotland', 'egypt', 'lead', 'best friend', 'every afternoon', 'same', 'acquire', 'maybe', 'office', 'spanish', 'fast', 'where', 'education', 'picture', 'dresser', 'police', 'meeting', 'cat', 'positive', 'hurry', 'shy', 'first', 'my', 'melon', 'fox', 'strong', 'shirt', 'gone', 'shelves', 'past', 'pig', 'every week', 'wife', 'silly', 'orange', 'drop', 'watch', 'cup', 'economics', 'help', 'wow', 'accountant', 'our', 'fishing', 'rude', 'steal', 'date', 'flag', 'humble', 'judge', 'artist', 'knife', 'eight', 'nurse', 'ask', 'that one', 'mexico', 'halloween', 'headache', 'week', 'eat', 'street', 'spaghetti', 'sweater', 'soda', 'so', \"can't\", 'forget', 'arrive', 'ready', 'cake', 'confused', 'half', 'that', 'puerto rico', 'bald', 'awful', 'credit card', 'please', 'counselor', 'excuse me', 'grocery store', 'in law', 'use', 'backpack', 'book', 'minute', 'head', 'hanukkah', 'saturday', 'perfect', 'teach', 'pull', 'emergency', 'proud', 'boss', 'red', 'denmark', 'lie', 'medium', 'dog', 'philippines', 'grandmother', 'front', 'pass', 'letter', 'meaning', 'chocolate', 'start', 'language', 'dollar', 'pants', 'black', 'twenty', 'dish', 'south america', 'basketball', 'careful', 'hard', 'famous', 'know', 'turkey', 'nothing', 'heart', 'scarf', 'need', 'meet', 'cochlear implant', 'see', 'uncle', 'cooking', 'christmas']\n"
     ]
    }
   ],
   "source": [
    "print(f'DIR_HOME: {os.listdir(DIR_HOME)}')\n",
    "print(f'DIR_DATASETS: {os.listdir(DIR_DATASETS)}')\n",
    "print(f'DIR_DATASET_MSASL: {os.listdir(DIR_DATASET_MSASL)}')\n",
    "print(f'DIR_VIDEOS: {os.listdir(DIR_VIDEOS)}')\n",
    "print(f'DIR_IMAGES: {os.listdir(DIR_IMAGES)}')"
   ]
  },
  {
   "attachments": {},
   "cell_type": "markdown",
   "metadata": {},
   "source": [
    "'**url**': a url link to the video<br/>\n",
    "'**start_time**': the starting point of the clip in the original video in seconds<br/>\n",
    "'**end_time**': the starting point of the clip in the original video in seconds<br/>\n",
    "'**label**': class (an integer between 0 to 1000)<br/>\n",
    "'**signer_id**': the id of the signer<br/>\n",
    "'**box**': the boudy bounding box of the signer such as [y0, x0, y1, x1] where (x0, y0) is up-left corner and (x1,y1) is bottom-right corner. All the values are normalized (between zero and one) according to width and height.<br/>\n",
    "'**text**': the gloss for this clip which match the 'label',<br/>\n",
    "'**width**': height for the original video<br/>\n",
    "'**height**': height for the original video<br/>\n",
    "'**fps**': frame per second for the original video<br/>"
   ]
  },
  {
   "cell_type": "code",
   "execution_count": 64,
   "metadata": {},
   "outputs": [
    {
     "data": {
      "text/html": [
       "<div>\n",
       "<style scoped>\n",
       "    .dataframe tbody tr th:only-of-type {\n",
       "        vertical-align: middle;\n",
       "    }\n",
       "\n",
       "    .dataframe tbody tr th {\n",
       "        vertical-align: top;\n",
       "    }\n",
       "\n",
       "    .dataframe thead th {\n",
       "        text-align: right;\n",
       "    }\n",
       "</style>\n",
       "<table border=\"1\" class=\"dataframe\">\n",
       "  <thead>\n",
       "    <tr style=\"text-align: right;\">\n",
       "      <th></th>\n",
       "      <th>0</th>\n",
       "    </tr>\n",
       "  </thead>\n",
       "  <tbody>\n",
       "    <tr>\n",
       "      <th>0</th>\n",
       "      <td>hello</td>\n",
       "    </tr>\n",
       "    <tr>\n",
       "      <th>1</th>\n",
       "      <td>nice</td>\n",
       "    </tr>\n",
       "    <tr>\n",
       "      <th>2</th>\n",
       "      <td>teacher</td>\n",
       "    </tr>\n",
       "    <tr>\n",
       "      <th>3</th>\n",
       "      <td>eat</td>\n",
       "    </tr>\n",
       "    <tr>\n",
       "      <th>4</th>\n",
       "      <td>no</td>\n",
       "    </tr>\n",
       "  </tbody>\n",
       "</table>\n",
       "</div>"
      ],
      "text/plain": [
       "         0\n",
       "0    hello\n",
       "1     nice\n",
       "2  teacher\n",
       "3      eat\n",
       "4       no"
      ]
     },
     "execution_count": 64,
     "metadata": {},
     "output_type": "execute_result"
    }
   ],
   "source": [
    "classes_json = pd.read_json(DIR_DATASET_MSASL + '/' + 'MSASL_classes.json')\n",
    "classes_json.head()"
   ]
  },
  {
   "cell_type": "code",
   "execution_count": 65,
   "metadata": {},
   "outputs": [
    {
     "data": {
      "text/html": [
       "<div>\n",
       "<style scoped>\n",
       "    .dataframe tbody tr th:only-of-type {\n",
       "        vertical-align: middle;\n",
       "    }\n",
       "\n",
       "    .dataframe tbody tr th {\n",
       "        vertical-align: top;\n",
       "    }\n",
       "\n",
       "    .dataframe thead th {\n",
       "        text-align: right;\n",
       "    }\n",
       "</style>\n",
       "<table border=\"1\" class=\"dataframe\">\n",
       "  <thead>\n",
       "    <tr style=\"text-align: right;\">\n",
       "      <th></th>\n",
       "      <th>0</th>\n",
       "      <th>1</th>\n",
       "      <th>2</th>\n",
       "      <th>3</th>\n",
       "      <th>4</th>\n",
       "    </tr>\n",
       "  </thead>\n",
       "  <tbody>\n",
       "    <tr>\n",
       "      <th>0</th>\n",
       "      <td>father</td>\n",
       "      <td>dad</td>\n",
       "      <td>daddy</td>\n",
       "      <td>None</td>\n",
       "      <td>None</td>\n",
       "    </tr>\n",
       "    <tr>\n",
       "      <th>1</th>\n",
       "      <td>mother</td>\n",
       "      <td>mom</td>\n",
       "      <td>mommy</td>\n",
       "      <td>None</td>\n",
       "      <td>None</td>\n",
       "    </tr>\n",
       "    <tr>\n",
       "      <th>2</th>\n",
       "      <td>shoes</td>\n",
       "      <td>shoe</td>\n",
       "      <td>None</td>\n",
       "      <td>None</td>\n",
       "      <td>None</td>\n",
       "    </tr>\n",
       "    <tr>\n",
       "      <th>3</th>\n",
       "      <td>pants</td>\n",
       "      <td>pant</td>\n",
       "      <td>None</td>\n",
       "      <td>None</td>\n",
       "      <td>None</td>\n",
       "    </tr>\n",
       "    <tr>\n",
       "      <th>4</th>\n",
       "      <td>color</td>\n",
       "      <td>colors</td>\n",
       "      <td>None</td>\n",
       "      <td>None</td>\n",
       "      <td>None</td>\n",
       "    </tr>\n",
       "  </tbody>\n",
       "</table>\n",
       "</div>"
      ],
      "text/plain": [
       "        0       1      2     3     4\n",
       "0  father     dad  daddy  None  None\n",
       "1  mother     mom  mommy  None  None\n",
       "2   shoes    shoe   None  None  None\n",
       "3   pants    pant   None  None  None\n",
       "4   color  colors   None  None  None"
      ]
     },
     "execution_count": 65,
     "metadata": {},
     "output_type": "execute_result"
    }
   ],
   "source": [
    "synonym_json = pd.read_json(DIR_DATASET_MSASL + '/' + 'MSASL_synonym.json')\n",
    "synonym_json.head()"
   ]
  },
  {
   "cell_type": "code",
   "execution_count": 66,
   "metadata": {},
   "outputs": [
    {
     "data": {
      "text/html": [
       "<div>\n",
       "<style scoped>\n",
       "    .dataframe tbody tr th:only-of-type {\n",
       "        vertical-align: middle;\n",
       "    }\n",
       "\n",
       "    .dataframe tbody tr th {\n",
       "        vertical-align: top;\n",
       "    }\n",
       "\n",
       "    .dataframe thead th {\n",
       "        text-align: right;\n",
       "    }\n",
       "</style>\n",
       "<table border=\"1\" class=\"dataframe\">\n",
       "  <thead>\n",
       "    <tr style=\"text-align: right;\">\n",
       "      <th></th>\n",
       "      <th>org_text</th>\n",
       "      <th>clean_text</th>\n",
       "      <th>start_time</th>\n",
       "      <th>signer_id</th>\n",
       "      <th>signer</th>\n",
       "      <th>start</th>\n",
       "      <th>end</th>\n",
       "      <th>file</th>\n",
       "      <th>label</th>\n",
       "      <th>height</th>\n",
       "      <th>fps</th>\n",
       "      <th>end_time</th>\n",
       "      <th>url</th>\n",
       "      <th>text</th>\n",
       "      <th>box</th>\n",
       "      <th>width</th>\n",
       "      <th>review</th>\n",
       "    </tr>\n",
       "  </thead>\n",
       "  <tbody>\n",
       "    <tr>\n",
       "      <th>0</th>\n",
       "      <td>match [light-a-MATCH]</td>\n",
       "      <td>match</td>\n",
       "      <td>0.0</td>\n",
       "      <td>0</td>\n",
       "      <td>0</td>\n",
       "      <td>0</td>\n",
       "      <td>83</td>\n",
       "      <td>match light-a-MATCH</td>\n",
       "      <td>830</td>\n",
       "      <td>360</td>\n",
       "      <td>30.00</td>\n",
       "      <td>2.767</td>\n",
       "      <td>https://www.youtube.com/watch?v=C37R_Ix8-qs</td>\n",
       "      <td>match</td>\n",
       "      <td>[0.057544618844985004, 0.21637457609176602, 1....</td>\n",
       "      <td>640</td>\n",
       "      <td>NaN</td>\n",
       "    </tr>\n",
       "    <tr>\n",
       "      <th>1</th>\n",
       "      <td>FAIL</td>\n",
       "      <td>fail</td>\n",
       "      <td>0.0</td>\n",
       "      <td>0</td>\n",
       "      <td>-1</td>\n",
       "      <td>0</td>\n",
       "      <td>74</td>\n",
       "      <td>FAIL</td>\n",
       "      <td>542</td>\n",
       "      <td>360</td>\n",
       "      <td>25.00</td>\n",
       "      <td>2.960</td>\n",
       "      <td>https://www.youtube.com/watch?v=PIsUJl8BN_I</td>\n",
       "      <td>fail</td>\n",
       "      <td>[0.06577941775321901, 0.167171776294708, 0.939...</td>\n",
       "      <td>480</td>\n",
       "      <td>NaN</td>\n",
       "    </tr>\n",
       "    <tr>\n",
       "      <th>2</th>\n",
       "      <td>laugh</td>\n",
       "      <td>laugh</td>\n",
       "      <td>0.0</td>\n",
       "      <td>4</td>\n",
       "      <td>26</td>\n",
       "      <td>0</td>\n",
       "      <td>31</td>\n",
       "      <td>SignSchool Laugh with Legs 2</td>\n",
       "      <td>312</td>\n",
       "      <td>360</td>\n",
       "      <td>29.97</td>\n",
       "      <td>1.034</td>\n",
       "      <td>www.youtube.com/watch?v=9FdHlMOnVjg</td>\n",
       "      <td>laugh</td>\n",
       "      <td>[0.131885945796966, 0.32334136962890603, 1.0, ...</td>\n",
       "      <td>640</td>\n",
       "      <td>NaN</td>\n",
       "    </tr>\n",
       "    <tr>\n",
       "      <th>3</th>\n",
       "      <td>BOOK</td>\n",
       "      <td>book</td>\n",
       "      <td>0.0</td>\n",
       "      <td>0</td>\n",
       "      <td>-1</td>\n",
       "      <td>0</td>\n",
       "      <td>66</td>\n",
       "      <td>BOOK(3)</td>\n",
       "      <td>38</td>\n",
       "      <td>360</td>\n",
       "      <td>25.00</td>\n",
       "      <td>2.640</td>\n",
       "      <td>https://www.youtube.com/watch?v=J7tP98oDxqE</td>\n",
       "      <td>book</td>\n",
       "      <td>[0.055698871612548, 0.25173279643058705, 0.996...</td>\n",
       "      <td>480</td>\n",
       "      <td>NaN</td>\n",
       "    </tr>\n",
       "    <tr>\n",
       "      <th>4</th>\n",
       "      <td>sign-language</td>\n",
       "      <td>sign language</td>\n",
       "      <td>0.0</td>\n",
       "      <td>0</td>\n",
       "      <td>-1</td>\n",
       "      <td>0</td>\n",
       "      <td>75</td>\n",
       "      <td>SIGN-LANGUAGE-S-CLAW-F</td>\n",
       "      <td>848</td>\n",
       "      <td>360</td>\n",
       "      <td>29.97</td>\n",
       "      <td>2.502</td>\n",
       "      <td>www.youtube.com/watch?v=N2mG9ZKjrGA</td>\n",
       "      <td>sign language</td>\n",
       "      <td>[0.039043992757797005, 0.24198183417320202, 1....</td>\n",
       "      <td>640</td>\n",
       "      <td>NaN</td>\n",
       "    </tr>\n",
       "  </tbody>\n",
       "</table>\n",
       "</div>"
      ],
      "text/plain": [
       "                org_text     clean_text  start_time  signer_id  signer  start   \n",
       "0  match [light-a-MATCH]          match         0.0          0       0      0  \\\n",
       "1                   FAIL           fail         0.0          0      -1      0   \n",
       "2                  laugh          laugh         0.0          4      26      0   \n",
       "3                   BOOK           book         0.0          0      -1      0   \n",
       "4          sign-language  sign language         0.0          0      -1      0   \n",
       "\n",
       "   end                          file  label  height    fps  end_time   \n",
       "0   83           match light-a-MATCH    830     360  30.00     2.767  \\\n",
       "1   74                          FAIL    542     360  25.00     2.960   \n",
       "2   31  SignSchool Laugh with Legs 2    312     360  29.97     1.034   \n",
       "3   66                       BOOK(3)     38     360  25.00     2.640   \n",
       "4   75        SIGN-LANGUAGE-S-CLAW-F    848     360  29.97     2.502   \n",
       "\n",
       "                                           url           text   \n",
       "0  https://www.youtube.com/watch?v=C37R_Ix8-qs          match  \\\n",
       "1  https://www.youtube.com/watch?v=PIsUJl8BN_I           fail   \n",
       "2          www.youtube.com/watch?v=9FdHlMOnVjg          laugh   \n",
       "3  https://www.youtube.com/watch?v=J7tP98oDxqE           book   \n",
       "4          www.youtube.com/watch?v=N2mG9ZKjrGA  sign language   \n",
       "\n",
       "                                                 box  width  review  \n",
       "0  [0.057544618844985004, 0.21637457609176602, 1....    640     NaN  \n",
       "1  [0.06577941775321901, 0.167171776294708, 0.939...    480     NaN  \n",
       "2  [0.131885945796966, 0.32334136962890603, 1.0, ...    640     NaN  \n",
       "3  [0.055698871612548, 0.25173279643058705, 0.996...    480     NaN  \n",
       "4  [0.039043992757797005, 0.24198183417320202, 1....    640     NaN  "
      ]
     },
     "execution_count": 66,
     "metadata": {},
     "output_type": "execute_result"
    }
   ],
   "source": [
    "train_json = pd.read_json(DIR_DATASET_MSASL + '/' + 'MSASL_train.json')\n",
    "train_json.head()"
   ]
  },
  {
   "cell_type": "code",
   "execution_count": 67,
   "metadata": {},
   "outputs": [
    {
     "data": {
      "text/html": [
       "<div>\n",
       "<style scoped>\n",
       "    .dataframe tbody tr th:only-of-type {\n",
       "        vertical-align: middle;\n",
       "    }\n",
       "\n",
       "    .dataframe tbody tr th {\n",
       "        vertical-align: top;\n",
       "    }\n",
       "\n",
       "    .dataframe thead th {\n",
       "        text-align: right;\n",
       "    }\n",
       "</style>\n",
       "<table border=\"1\" class=\"dataframe\">\n",
       "  <thead>\n",
       "    <tr style=\"text-align: right;\">\n",
       "      <th></th>\n",
       "      <th>org_text</th>\n",
       "      <th>clean_text</th>\n",
       "      <th>start_time</th>\n",
       "      <th>signer_id</th>\n",
       "      <th>signer</th>\n",
       "      <th>start</th>\n",
       "      <th>end</th>\n",
       "      <th>file</th>\n",
       "      <th>label</th>\n",
       "      <th>height</th>\n",
       "      <th>fps</th>\n",
       "      <th>end_time</th>\n",
       "      <th>url</th>\n",
       "      <th>text</th>\n",
       "      <th>box</th>\n",
       "      <th>width</th>\n",
       "      <th>review</th>\n",
       "    </tr>\n",
       "  </thead>\n",
       "  <tbody>\n",
       "    <tr>\n",
       "      <th>0</th>\n",
       "      <td>beer</td>\n",
       "      <td>beer</td>\n",
       "      <td>0.0</td>\n",
       "      <td>20</td>\n",
       "      <td>40</td>\n",
       "      <td>0</td>\n",
       "      <td>59</td>\n",
       "      <td>SignSchool Beer var</td>\n",
       "      <td>805</td>\n",
       "      <td>360</td>\n",
       "      <td>29.970</td>\n",
       "      <td>1.969</td>\n",
       "      <td>www.youtube.com/watch?v=wX78EPtSuzU</td>\n",
       "      <td>beer</td>\n",
       "      <td>[0.046787232160568, 0.290409207344055, 1.0, 0....</td>\n",
       "      <td>640</td>\n",
       "      <td>NaN</td>\n",
       "    </tr>\n",
       "    <tr>\n",
       "      <th>1</th>\n",
       "      <td>enjoy</td>\n",
       "      <td>enjoy</td>\n",
       "      <td>0.0</td>\n",
       "      <td>11</td>\n",
       "      <td>39</td>\n",
       "      <td>0</td>\n",
       "      <td>54</td>\n",
       "      <td>enjoy(1)</td>\n",
       "      <td>192</td>\n",
       "      <td>360</td>\n",
       "      <td>29.970</td>\n",
       "      <td>1.802</td>\n",
       "      <td>www.youtube.com/watch?v=OL02Odh2dRg</td>\n",
       "      <td>enjoy</td>\n",
       "      <td>[0.071450918912887, 0.136024981737136, 1.0, 0....</td>\n",
       "      <td>480</td>\n",
       "      <td>NaN</td>\n",
       "    </tr>\n",
       "    <tr>\n",
       "      <th>2</th>\n",
       "      <td>emotional</td>\n",
       "      <td>emotional</td>\n",
       "      <td>0.0</td>\n",
       "      <td>20</td>\n",
       "      <td>40</td>\n",
       "      <td>0</td>\n",
       "      <td>30</td>\n",
       "      <td>SignSchool Emotional</td>\n",
       "      <td>907</td>\n",
       "      <td>360</td>\n",
       "      <td>23.976</td>\n",
       "      <td>1.251</td>\n",
       "      <td>www.youtube.com/watch?v=C59jcSo4fEI</td>\n",
       "      <td>emotional</td>\n",
       "      <td>[0.059554219245910006, 0.281019657850265, 1.0,...</td>\n",
       "      <td>640</td>\n",
       "      <td>NaN</td>\n",
       "    </tr>\n",
       "    <tr>\n",
       "      <th>3</th>\n",
       "      <td>key</td>\n",
       "      <td>key</td>\n",
       "      <td>0.0</td>\n",
       "      <td>92</td>\n",
       "      <td>-1</td>\n",
       "      <td>0</td>\n",
       "      <td>37</td>\n",
       "      <td>SignSchool Key</td>\n",
       "      <td>456</td>\n",
       "      <td>360</td>\n",
       "      <td>23.976</td>\n",
       "      <td>1.543</td>\n",
       "      <td>www.youtube.com/watch?v=Qs2ua1S6tg0</td>\n",
       "      <td>key</td>\n",
       "      <td>[0.11462894082069301, 0.308987438678741, 1.0, ...</td>\n",
       "      <td>640</td>\n",
       "      <td>NaN</td>\n",
       "    </tr>\n",
       "    <tr>\n",
       "      <th>4</th>\n",
       "      <td>bad</td>\n",
       "      <td>bad</td>\n",
       "      <td>0.0</td>\n",
       "      <td>11</td>\n",
       "      <td>39</td>\n",
       "      <td>0</td>\n",
       "      <td>36</td>\n",
       "      <td>BAD</td>\n",
       "      <td>81</td>\n",
       "      <td>360</td>\n",
       "      <td>29.970</td>\n",
       "      <td>1.201</td>\n",
       "      <td>www.youtube.com/watch?v=-kgTBeOw95A</td>\n",
       "      <td>bad</td>\n",
       "      <td>[0.040453493595123007, 0.22047379612922602, 0....</td>\n",
       "      <td>480</td>\n",
       "      <td>NaN</td>\n",
       "    </tr>\n",
       "  </tbody>\n",
       "</table>\n",
       "</div>"
      ],
      "text/plain": [
       "    org_text clean_text  start_time  signer_id  signer  start  end   \n",
       "0       beer       beer         0.0         20      40      0   59  \\\n",
       "1      enjoy      enjoy         0.0         11      39      0   54   \n",
       "2  emotional  emotional         0.0         20      40      0   30   \n",
       "3        key        key         0.0         92      -1      0   37   \n",
       "4        bad        bad         0.0         11      39      0   36   \n",
       "\n",
       "                   file  label  height     fps  end_time   \n",
       "0   SignSchool Beer var    805     360  29.970     1.969  \\\n",
       "1              enjoy(1)    192     360  29.970     1.802   \n",
       "2  SignSchool Emotional    907     360  23.976     1.251   \n",
       "3        SignSchool Key    456     360  23.976     1.543   \n",
       "4                   BAD     81     360  29.970     1.201   \n",
       "\n",
       "                                   url       text   \n",
       "0  www.youtube.com/watch?v=wX78EPtSuzU       beer  \\\n",
       "1  www.youtube.com/watch?v=OL02Odh2dRg      enjoy   \n",
       "2  www.youtube.com/watch?v=C59jcSo4fEI  emotional   \n",
       "3  www.youtube.com/watch?v=Qs2ua1S6tg0        key   \n",
       "4  www.youtube.com/watch?v=-kgTBeOw95A        bad   \n",
       "\n",
       "                                                 box  width  review  \n",
       "0  [0.046787232160568, 0.290409207344055, 1.0, 0....    640     NaN  \n",
       "1  [0.071450918912887, 0.136024981737136, 1.0, 0....    480     NaN  \n",
       "2  [0.059554219245910006, 0.281019657850265, 1.0,...    640     NaN  \n",
       "3  [0.11462894082069301, 0.308987438678741, 1.0, ...    640     NaN  \n",
       "4  [0.040453493595123007, 0.22047379612922602, 0....    480     NaN  "
      ]
     },
     "execution_count": 67,
     "metadata": {},
     "output_type": "execute_result"
    }
   ],
   "source": [
    "test_json = pd.read_json(DIR_DATASET_MSASL + '/' + 'MSASL_test.json')\n",
    "test_json.head()"
   ]
  },
  {
   "cell_type": "code",
   "execution_count": 68,
   "metadata": {},
   "outputs": [
    {
     "data": {
      "text/html": [
       "<div>\n",
       "<style scoped>\n",
       "    .dataframe tbody tr th:only-of-type {\n",
       "        vertical-align: middle;\n",
       "    }\n",
       "\n",
       "    .dataframe tbody tr th {\n",
       "        vertical-align: top;\n",
       "    }\n",
       "\n",
       "    .dataframe thead th {\n",
       "        text-align: right;\n",
       "    }\n",
       "</style>\n",
       "<table border=\"1\" class=\"dataframe\">\n",
       "  <thead>\n",
       "    <tr style=\"text-align: right;\">\n",
       "      <th></th>\n",
       "      <th>org_text</th>\n",
       "      <th>clean_text</th>\n",
       "      <th>start_time</th>\n",
       "      <th>signer_id</th>\n",
       "      <th>signer</th>\n",
       "      <th>start</th>\n",
       "      <th>end</th>\n",
       "      <th>file</th>\n",
       "      <th>label</th>\n",
       "      <th>height</th>\n",
       "      <th>fps</th>\n",
       "      <th>end_time</th>\n",
       "      <th>url</th>\n",
       "      <th>text</th>\n",
       "      <th>box</th>\n",
       "      <th>width</th>\n",
       "      <th>review</th>\n",
       "    </tr>\n",
       "  </thead>\n",
       "  <tbody>\n",
       "    <tr>\n",
       "      <th>0</th>\n",
       "      <td>absent</td>\n",
       "      <td>absent</td>\n",
       "      <td>0.0</td>\n",
       "      <td>114</td>\n",
       "      <td>-1</td>\n",
       "      <td>0</td>\n",
       "      <td>37</td>\n",
       "      <td>ASL ABSENT</td>\n",
       "      <td>837</td>\n",
       "      <td>360</td>\n",
       "      <td>28.971</td>\n",
       "      <td>1.277</td>\n",
       "      <td>https://www.youtube.com/watch?v=ri3NrdgfAtE</td>\n",
       "      <td>absent</td>\n",
       "      <td>[0.21896389126777602, 0.008568197488784, 0.997...</td>\n",
       "      <td>202</td>\n",
       "      <td>NaN</td>\n",
       "    </tr>\n",
       "    <tr>\n",
       "      <th>1</th>\n",
       "      <td>help</td>\n",
       "      <td>help</td>\n",
       "      <td>0.0</td>\n",
       "      <td>76</td>\n",
       "      <td>42</td>\n",
       "      <td>0</td>\n",
       "      <td>110</td>\n",
       "      <td>help 2</td>\n",
       "      <td>50</td>\n",
       "      <td>360</td>\n",
       "      <td>29.970</td>\n",
       "      <td>3.670</td>\n",
       "      <td>www.youtube.com/watch?v=l31UXgChCS4</td>\n",
       "      <td>help</td>\n",
       "      <td>[0.050372719764709, 0.29941257834434504, 1.0, ...</td>\n",
       "      <td>640</td>\n",
       "      <td>NaN</td>\n",
       "    </tr>\n",
       "    <tr>\n",
       "      <th>2</th>\n",
       "      <td>come on</td>\n",
       "      <td>come on</td>\n",
       "      <td>0.0</td>\n",
       "      <td>114</td>\n",
       "      <td>-1</td>\n",
       "      <td>0</td>\n",
       "      <td>41</td>\n",
       "      <td>asl come on</td>\n",
       "      <td>889</td>\n",
       "      <td>360</td>\n",
       "      <td>25.000</td>\n",
       "      <td>1.640</td>\n",
       "      <td>https://www.youtube.com/watch?v=pt9bV_EvcaU</td>\n",
       "      <td>come on</td>\n",
       "      <td>[0.08946925401687601, 0.17948511242866502, 0.9...</td>\n",
       "      <td>480</td>\n",
       "      <td>NaN</td>\n",
       "    </tr>\n",
       "    <tr>\n",
       "      <th>3</th>\n",
       "      <td>LANGUAGE</td>\n",
       "      <td>language</td>\n",
       "      <td>0.0</td>\n",
       "      <td>3</td>\n",
       "      <td>-1</td>\n",
       "      <td>0</td>\n",
       "      <td>56</td>\n",
       "      <td>LANGUAGE(3)</td>\n",
       "      <td>513</td>\n",
       "      <td>360</td>\n",
       "      <td>15.000</td>\n",
       "      <td>3.733</td>\n",
       "      <td>https://www.youtube.com/watch?v=-j1wozf6o9w</td>\n",
       "      <td>language</td>\n",
       "      <td>[0.177085787057876, 0.003668457269668, 1.0, 0....</td>\n",
       "      <td>480</td>\n",
       "      <td>NaN</td>\n",
       "    </tr>\n",
       "    <tr>\n",
       "      <th>4</th>\n",
       "      <td>confused</td>\n",
       "      <td>confused</td>\n",
       "      <td>0.0</td>\n",
       "      <td>53</td>\n",
       "      <td>-1</td>\n",
       "      <td>0</td>\n",
       "      <td>95</td>\n",
       "      <td>ASL Confused</td>\n",
       "      <td>272</td>\n",
       "      <td>360</td>\n",
       "      <td>29.969</td>\n",
       "      <td>3.170</td>\n",
       "      <td>https://www.youtube.com/watch?v=y8tHmOQcCwU</td>\n",
       "      <td>confused</td>\n",
       "      <td>[0.06262531876564001, 0.209987848997116, 1.0, ...</td>\n",
       "      <td>640</td>\n",
       "      <td>NaN</td>\n",
       "    </tr>\n",
       "  </tbody>\n",
       "</table>\n",
       "</div>"
      ],
      "text/plain": [
       "   org_text clean_text  start_time  signer_id  signer  start  end   \n",
       "0    absent     absent         0.0        114      -1      0   37  \\\n",
       "1      help       help         0.0         76      42      0  110   \n",
       "2   come on    come on         0.0        114      -1      0   41   \n",
       "3  LANGUAGE   language         0.0          3      -1      0   56   \n",
       "4  confused   confused         0.0         53      -1      0   95   \n",
       "\n",
       "           file  label  height     fps  end_time   \n",
       "0    ASL ABSENT    837     360  28.971     1.277  \\\n",
       "1        help 2     50     360  29.970     3.670   \n",
       "2   asl come on    889     360  25.000     1.640   \n",
       "3   LANGUAGE(3)    513     360  15.000     3.733   \n",
       "4  ASL Confused    272     360  29.969     3.170   \n",
       "\n",
       "                                           url      text   \n",
       "0  https://www.youtube.com/watch?v=ri3NrdgfAtE    absent  \\\n",
       "1          www.youtube.com/watch?v=l31UXgChCS4      help   \n",
       "2  https://www.youtube.com/watch?v=pt9bV_EvcaU   come on   \n",
       "3  https://www.youtube.com/watch?v=-j1wozf6o9w  language   \n",
       "4  https://www.youtube.com/watch?v=y8tHmOQcCwU  confused   \n",
       "\n",
       "                                                 box  width  review  \n",
       "0  [0.21896389126777602, 0.008568197488784, 0.997...    202     NaN  \n",
       "1  [0.050372719764709, 0.29941257834434504, 1.0, ...    640     NaN  \n",
       "2  [0.08946925401687601, 0.17948511242866502, 0.9...    480     NaN  \n",
       "3  [0.177085787057876, 0.003668457269668, 1.0, 0....    480     NaN  \n",
       "4  [0.06262531876564001, 0.209987848997116, 1.0, ...    640     NaN  "
      ]
     },
     "execution_count": 68,
     "metadata": {},
     "output_type": "execute_result"
    }
   ],
   "source": [
    "val_json = pd.read_json(DIR_DATASET_MSASL + '/' + 'MSASL_val.json')\n",
    "val_json.head()"
   ]
  },
  {
   "attachments": {},
   "cell_type": "markdown",
   "metadata": {},
   "source": [
    "#### Загрузка видео датасета MS-ASL"
   ]
  },
  {
   "cell_type": "code",
   "execution_count": 69,
   "metadata": {},
   "outputs": [],
   "source": [
    "# def download_video(url, filedir, filename):\n",
    "#     try:\n",
    "#         video = YouTube(url, use_oauth=True, allow_oauth_cache=False)\n",
    "#         video = video.streams.get_highest_resolution()\n",
    "#         output = video.download(filedir)\n",
    "#         os.rename(output, filename)\n",
    "#     except:\n",
    "#         print('Failed to download video' + ' ' + url)"
   ]
  },
  {
   "cell_type": "code",
   "execution_count": 70,
   "metadata": {},
   "outputs": [],
   "source": [
    "# def download_data(x):\n",
    "#     url = x['url']\n",
    "#     extension = 'mp4'\n",
    "#     name = str(x['clean_text'])\n",
    "#     filename = DIR_VIDEOS + '/' + name + '.' + extension\n",
    "#     filedir = DIR_VIDEOS\n",
    "#     if not os.path.isfile(filename):\n",
    "#         download_video(url, filedir, filename)\n",
    "#     else:\n",
    "#         f'File {name} already exists'"
   ]
  },
  {
   "cell_type": "code",
   "execution_count": 71,
   "metadata": {},
   "outputs": [],
   "source": [
    "# train_json.apply(lambda x: download_data(x), axis = 1)"
   ]
  },
  {
   "attachments": {},
   "cell_type": "markdown",
   "metadata": {},
   "source": [
    "#### Videos to images"
   ]
  },
  {
   "cell_type": "code",
   "execution_count": 72,
   "metadata": {},
   "outputs": [],
   "source": [
    "# # Очищаем директорию, если в ней есть файлы\n",
    "# def clear_dir(dir_name):\n",
    "#     for f in os.listdir(dir_name):\n",
    "#         os.remove(os.path.join(dir_name, f))"
   ]
  },
  {
   "cell_type": "code",
   "execution_count": 73,
   "metadata": {},
   "outputs": [],
   "source": [
    "# # Создаем директорию, если отсутствует\n",
    "# def create_dir(dir_name):\n",
    "#     if not os.path.exists(dir_name):\n",
    "#         os.makedirs(dir_name)"
   ]
  },
  {
   "cell_type": "code",
   "execution_count": 74,
   "metadata": {},
   "outputs": [],
   "source": [
    "# # Разбивает видео на кадры. Каждый кадр - отдельное изображение\n",
    "# def video_to_images(dir_name, file_name):\n",
    "#     vidcap = cv2.VideoCapture(DIR_VIDEOS + '/' + file_name)\n",
    "#     success, image = vidcap.read()\n",
    "#     count = 0\n",
    "#     while success:\n",
    "#         cv2.imwrite(dir_name + '/' + 'frame%d.jpg' % count, image)  # сохранить кадр как JPEG файл      \n",
    "#         success,image = vidcap.read()\n",
    "#         count += 1    \n",
    "#     print(f'Frames for {file_name} are created')"
   ]
  },
  {
   "cell_type": "code",
   "execution_count": 75,
   "metadata": {},
   "outputs": [],
   "source": [
    "# for filename in os.scandir(DIR_VIDEOS):\n",
    "#     if filename.is_file():\n",
    "#         name = filename.name.split('.')[0]\n",
    "#         dir_name = DIR_IMAGES + '/' + name\n",
    "#         create_dir(dir_name)\n",
    "#         clear_dir(dir_name)\n",
    "#         video_to_images(dir_name, filename.name)"
   ]
  },
  {
   "cell_type": "code",
   "execution_count": 76,
   "metadata": {},
   "outputs": [],
   "source": [
    "# Добавляем колонку loaded для понимания какие видео смогли загрузить\n",
    "loaded_list = os.listdir(DIR_IMAGES)\n",
    "train_json['loaded'] = train_json['clean_text'].isin(loaded_list)"
   ]
  },
  {
   "cell_type": "code",
   "execution_count": 77,
   "metadata": {},
   "outputs": [
    {
     "data": {
      "text/html": [
       "<div>\n",
       "<style scoped>\n",
       "    .dataframe tbody tr th:only-of-type {\n",
       "        vertical-align: middle;\n",
       "    }\n",
       "\n",
       "    .dataframe tbody tr th {\n",
       "        vertical-align: top;\n",
       "    }\n",
       "\n",
       "    .dataframe thead th {\n",
       "        text-align: right;\n",
       "    }\n",
       "</style>\n",
       "<table border=\"1\" class=\"dataframe\">\n",
       "  <thead>\n",
       "    <tr style=\"text-align: right;\">\n",
       "      <th></th>\n",
       "      <th>org_text</th>\n",
       "      <th>clean_text</th>\n",
       "      <th>start_time</th>\n",
       "      <th>signer_id</th>\n",
       "      <th>signer</th>\n",
       "      <th>start</th>\n",
       "      <th>end</th>\n",
       "      <th>file</th>\n",
       "      <th>label</th>\n",
       "      <th>height</th>\n",
       "      <th>fps</th>\n",
       "      <th>end_time</th>\n",
       "      <th>url</th>\n",
       "      <th>text</th>\n",
       "      <th>box</th>\n",
       "      <th>width</th>\n",
       "      <th>review</th>\n",
       "      <th>loaded</th>\n",
       "    </tr>\n",
       "  </thead>\n",
       "  <tbody>\n",
       "    <tr>\n",
       "      <th>0</th>\n",
       "      <td>match [light-a-MATCH]</td>\n",
       "      <td>match</td>\n",
       "      <td>0.0</td>\n",
       "      <td>0</td>\n",
       "      <td>0</td>\n",
       "      <td>0</td>\n",
       "      <td>83</td>\n",
       "      <td>match light-a-MATCH</td>\n",
       "      <td>830</td>\n",
       "      <td>360</td>\n",
       "      <td>30.00</td>\n",
       "      <td>2.767</td>\n",
       "      <td>https://www.youtube.com/watch?v=C37R_Ix8-qs</td>\n",
       "      <td>match</td>\n",
       "      <td>[0.057544618844985004, 0.21637457609176602, 1....</td>\n",
       "      <td>640</td>\n",
       "      <td>NaN</td>\n",
       "      <td>True</td>\n",
       "    </tr>\n",
       "    <tr>\n",
       "      <th>1</th>\n",
       "      <td>FAIL</td>\n",
       "      <td>fail</td>\n",
       "      <td>0.0</td>\n",
       "      <td>0</td>\n",
       "      <td>-1</td>\n",
       "      <td>0</td>\n",
       "      <td>74</td>\n",
       "      <td>FAIL</td>\n",
       "      <td>542</td>\n",
       "      <td>360</td>\n",
       "      <td>25.00</td>\n",
       "      <td>2.960</td>\n",
       "      <td>https://www.youtube.com/watch?v=PIsUJl8BN_I</td>\n",
       "      <td>fail</td>\n",
       "      <td>[0.06577941775321901, 0.167171776294708, 0.939...</td>\n",
       "      <td>480</td>\n",
       "      <td>NaN</td>\n",
       "      <td>True</td>\n",
       "    </tr>\n",
       "    <tr>\n",
       "      <th>2</th>\n",
       "      <td>laugh</td>\n",
       "      <td>laugh</td>\n",
       "      <td>0.0</td>\n",
       "      <td>4</td>\n",
       "      <td>26</td>\n",
       "      <td>0</td>\n",
       "      <td>31</td>\n",
       "      <td>SignSchool Laugh with Legs 2</td>\n",
       "      <td>312</td>\n",
       "      <td>360</td>\n",
       "      <td>29.97</td>\n",
       "      <td>1.034</td>\n",
       "      <td>www.youtube.com/watch?v=9FdHlMOnVjg</td>\n",
       "      <td>laugh</td>\n",
       "      <td>[0.131885945796966, 0.32334136962890603, 1.0, ...</td>\n",
       "      <td>640</td>\n",
       "      <td>NaN</td>\n",
       "      <td>True</td>\n",
       "    </tr>\n",
       "    <tr>\n",
       "      <th>3</th>\n",
       "      <td>BOOK</td>\n",
       "      <td>book</td>\n",
       "      <td>0.0</td>\n",
       "      <td>0</td>\n",
       "      <td>-1</td>\n",
       "      <td>0</td>\n",
       "      <td>66</td>\n",
       "      <td>BOOK(3)</td>\n",
       "      <td>38</td>\n",
       "      <td>360</td>\n",
       "      <td>25.00</td>\n",
       "      <td>2.640</td>\n",
       "      <td>https://www.youtube.com/watch?v=J7tP98oDxqE</td>\n",
       "      <td>book</td>\n",
       "      <td>[0.055698871612548, 0.25173279643058705, 0.996...</td>\n",
       "      <td>480</td>\n",
       "      <td>NaN</td>\n",
       "      <td>True</td>\n",
       "    </tr>\n",
       "    <tr>\n",
       "      <th>4</th>\n",
       "      <td>sign-language</td>\n",
       "      <td>sign language</td>\n",
       "      <td>0.0</td>\n",
       "      <td>0</td>\n",
       "      <td>-1</td>\n",
       "      <td>0</td>\n",
       "      <td>75</td>\n",
       "      <td>SIGN-LANGUAGE-S-CLAW-F</td>\n",
       "      <td>848</td>\n",
       "      <td>360</td>\n",
       "      <td>29.97</td>\n",
       "      <td>2.502</td>\n",
       "      <td>www.youtube.com/watch?v=N2mG9ZKjrGA</td>\n",
       "      <td>sign language</td>\n",
       "      <td>[0.039043992757797005, 0.24198183417320202, 1....</td>\n",
       "      <td>640</td>\n",
       "      <td>NaN</td>\n",
       "      <td>True</td>\n",
       "    </tr>\n",
       "  </tbody>\n",
       "</table>\n",
       "</div>"
      ],
      "text/plain": [
       "                org_text     clean_text  start_time  signer_id  signer  start   \n",
       "0  match [light-a-MATCH]          match         0.0          0       0      0  \\\n",
       "1                   FAIL           fail         0.0          0      -1      0   \n",
       "2                  laugh          laugh         0.0          4      26      0   \n",
       "3                   BOOK           book         0.0          0      -1      0   \n",
       "4          sign-language  sign language         0.0          0      -1      0   \n",
       "\n",
       "   end                          file  label  height    fps  end_time   \n",
       "0   83           match light-a-MATCH    830     360  30.00     2.767  \\\n",
       "1   74                          FAIL    542     360  25.00     2.960   \n",
       "2   31  SignSchool Laugh with Legs 2    312     360  29.97     1.034   \n",
       "3   66                       BOOK(3)     38     360  25.00     2.640   \n",
       "4   75        SIGN-LANGUAGE-S-CLAW-F    848     360  29.97     2.502   \n",
       "\n",
       "                                           url           text   \n",
       "0  https://www.youtube.com/watch?v=C37R_Ix8-qs          match  \\\n",
       "1  https://www.youtube.com/watch?v=PIsUJl8BN_I           fail   \n",
       "2          www.youtube.com/watch?v=9FdHlMOnVjg          laugh   \n",
       "3  https://www.youtube.com/watch?v=J7tP98oDxqE           book   \n",
       "4          www.youtube.com/watch?v=N2mG9ZKjrGA  sign language   \n",
       "\n",
       "                                                 box  width  review  loaded  \n",
       "0  [0.057544618844985004, 0.21637457609176602, 1....    640     NaN    True  \n",
       "1  [0.06577941775321901, 0.167171776294708, 0.939...    480     NaN    True  \n",
       "2  [0.131885945796966, 0.32334136962890603, 1.0, ...    640     NaN    True  \n",
       "3  [0.055698871612548, 0.25173279643058705, 0.996...    480     NaN    True  \n",
       "4  [0.039043992757797005, 0.24198183417320202, 1....    640     NaN    True  "
      ]
     },
     "execution_count": 77,
     "metadata": {},
     "output_type": "execute_result"
    }
   ],
   "source": [
    "train_json.head()"
   ]
  },
  {
   "cell_type": "code",
   "execution_count": 78,
   "metadata": {},
   "outputs": [
    {
     "name": "stdout",
     "output_type": "stream",
     "text": [
      "['friend', 'deer', 'orange', 'wall']\n"
     ]
    }
   ],
   "source": [
    "# Список каталогов, в которых находятся слова ASL\n",
    "#labels = train_json[train_json['loaded']]['clean_text'].values.tolist()\n",
    "labels = ['friend', 'deer', 'orange', 'wall']\n",
    "print(labels)\n",
    "\n",
    "# Создаем DataFrame\n",
    "data = pd.DataFrame()"
   ]
  },
  {
   "cell_type": "code",
   "execution_count": 79,
   "metadata": {},
   "outputs": [
    {
     "name": "stderr",
     "output_type": "stream",
     "text": [
      "100%|██████████| 4/4 [01:52<00:00, 28.03s/it]\n"
     ]
    }
   ],
   "source": [
    "folder_paths = [(DIR_IMAGES + '/' + x) for x in labels if os.path.isdir(DIR_IMAGES + '/' + x)]\n",
    "\n",
    "image_formats = ['jpg', 'JPG', 'PNG', 'png'] # отбираем картинки только этих форматов\n",
    "counter = 0\n",
    "for i, folder_path in tqdm(enumerate(folder_paths), total=len(folder_paths)):\n",
    "    image_paths = os.listdir(folder_path)\n",
    "    label = folder_path\n",
    "    # save image paths in the DataFrame\n",
    "    for image_path in image_paths:\n",
    "        if image_path.split('.')[-1] in image_formats:\n",
    "            data.loc[counter, 'folder_path'] = f\"{folder_path}\"\n",
    "            data.loc[counter, 'image_path'] = f\"{folder_path}/{image_path}\"\n",
    "            counter += 1"
   ]
  },
  {
   "cell_type": "code",
   "execution_count": 80,
   "metadata": {},
   "outputs": [
    {
     "data": {
      "text/html": [
       "<div>\n",
       "<style scoped>\n",
       "    .dataframe tbody tr th:only-of-type {\n",
       "        vertical-align: middle;\n",
       "    }\n",
       "\n",
       "    .dataframe tbody tr th {\n",
       "        vertical-align: top;\n",
       "    }\n",
       "\n",
       "    .dataframe thead th {\n",
       "        text-align: right;\n",
       "    }\n",
       "</style>\n",
       "<table border=\"1\" class=\"dataframe\">\n",
       "  <thead>\n",
       "    <tr style=\"text-align: right;\">\n",
       "      <th></th>\n",
       "      <th>folder_path</th>\n",
       "      <th>image_path</th>\n",
       "    </tr>\n",
       "  </thead>\n",
       "  <tbody>\n",
       "    <tr>\n",
       "      <th>0</th>\n",
       "      <td>/home/jupyter-admin/datasets/MS-ASL/images/friend</td>\n",
       "      <td>/home/jupyter-admin/datasets/MS-ASL/images/fri...</td>\n",
       "    </tr>\n",
       "    <tr>\n",
       "      <th>1</th>\n",
       "      <td>/home/jupyter-admin/datasets/MS-ASL/images/friend</td>\n",
       "      <td>/home/jupyter-admin/datasets/MS-ASL/images/fri...</td>\n",
       "    </tr>\n",
       "    <tr>\n",
       "      <th>2</th>\n",
       "      <td>/home/jupyter-admin/datasets/MS-ASL/images/friend</td>\n",
       "      <td>/home/jupyter-admin/datasets/MS-ASL/images/fri...</td>\n",
       "    </tr>\n",
       "    <tr>\n",
       "      <th>3</th>\n",
       "      <td>/home/jupyter-admin/datasets/MS-ASL/images/friend</td>\n",
       "      <td>/home/jupyter-admin/datasets/MS-ASL/images/fri...</td>\n",
       "    </tr>\n",
       "    <tr>\n",
       "      <th>4</th>\n",
       "      <td>/home/jupyter-admin/datasets/MS-ASL/images/friend</td>\n",
       "      <td>/home/jupyter-admin/datasets/MS-ASL/images/fri...</td>\n",
       "    </tr>\n",
       "    <tr>\n",
       "      <th>...</th>\n",
       "      <td>...</td>\n",
       "      <td>...</td>\n",
       "    </tr>\n",
       "    <tr>\n",
       "      <th>54116</th>\n",
       "      <td>/home/jupyter-admin/datasets/MS-ASL/images/wall</td>\n",
       "      <td>/home/jupyter-admin/datasets/MS-ASL/images/wal...</td>\n",
       "    </tr>\n",
       "    <tr>\n",
       "      <th>54117</th>\n",
       "      <td>/home/jupyter-admin/datasets/MS-ASL/images/wall</td>\n",
       "      <td>/home/jupyter-admin/datasets/MS-ASL/images/wal...</td>\n",
       "    </tr>\n",
       "    <tr>\n",
       "      <th>54118</th>\n",
       "      <td>/home/jupyter-admin/datasets/MS-ASL/images/wall</td>\n",
       "      <td>/home/jupyter-admin/datasets/MS-ASL/images/wal...</td>\n",
       "    </tr>\n",
       "    <tr>\n",
       "      <th>54119</th>\n",
       "      <td>/home/jupyter-admin/datasets/MS-ASL/images/wall</td>\n",
       "      <td>/home/jupyter-admin/datasets/MS-ASL/images/wal...</td>\n",
       "    </tr>\n",
       "    <tr>\n",
       "      <th>54120</th>\n",
       "      <td>/home/jupyter-admin/datasets/MS-ASL/images/wall</td>\n",
       "      <td>/home/jupyter-admin/datasets/MS-ASL/images/wal...</td>\n",
       "    </tr>\n",
       "  </tbody>\n",
       "</table>\n",
       "<p>54121 rows × 2 columns</p>\n",
       "</div>"
      ],
      "text/plain": [
       "                                             folder_path   \n",
       "0      /home/jupyter-admin/datasets/MS-ASL/images/friend  \\\n",
       "1      /home/jupyter-admin/datasets/MS-ASL/images/friend   \n",
       "2      /home/jupyter-admin/datasets/MS-ASL/images/friend   \n",
       "3      /home/jupyter-admin/datasets/MS-ASL/images/friend   \n",
       "4      /home/jupyter-admin/datasets/MS-ASL/images/friend   \n",
       "...                                                  ...   \n",
       "54116    /home/jupyter-admin/datasets/MS-ASL/images/wall   \n",
       "54117    /home/jupyter-admin/datasets/MS-ASL/images/wall   \n",
       "54118    /home/jupyter-admin/datasets/MS-ASL/images/wall   \n",
       "54119    /home/jupyter-admin/datasets/MS-ASL/images/wall   \n",
       "54120    /home/jupyter-admin/datasets/MS-ASL/images/wall   \n",
       "\n",
       "                                              image_path  \n",
       "0      /home/jupyter-admin/datasets/MS-ASL/images/fri...  \n",
       "1      /home/jupyter-admin/datasets/MS-ASL/images/fri...  \n",
       "2      /home/jupyter-admin/datasets/MS-ASL/images/fri...  \n",
       "3      /home/jupyter-admin/datasets/MS-ASL/images/fri...  \n",
       "4      /home/jupyter-admin/datasets/MS-ASL/images/fri...  \n",
       "...                                                  ...  \n",
       "54116  /home/jupyter-admin/datasets/MS-ASL/images/wal...  \n",
       "54117  /home/jupyter-admin/datasets/MS-ASL/images/wal...  \n",
       "54118  /home/jupyter-admin/datasets/MS-ASL/images/wal...  \n",
       "54119  /home/jupyter-admin/datasets/MS-ASL/images/wal...  \n",
       "54120  /home/jupyter-admin/datasets/MS-ASL/images/wal...  \n",
       "\n",
       "[54121 rows x 2 columns]"
      ]
     },
     "metadata": {},
     "output_type": "display_data"
    }
   ],
   "source": [
    "display(data)"
   ]
  },
  {
   "attachments": {},
   "cell_type": "markdown",
   "metadata": {},
   "source": [
    "#### One Hot Encoding"
   ]
  },
  {
   "cell_type": "code",
   "execution_count": 81,
   "metadata": {},
   "outputs": [],
   "source": [
    "grouped = data.groupby('folder_path')\n",
    "counter = 0\n",
    "for name, elem in grouped:\n",
    "    data.loc[data['folder_path'] == name, 'target'] = counter\n",
    "    counter += 1"
   ]
  },
  {
   "cell_type": "code",
   "execution_count": 82,
   "metadata": {},
   "outputs": [
    {
     "data": {
      "text/html": [
       "<div>\n",
       "<style scoped>\n",
       "    .dataframe tbody tr th:only-of-type {\n",
       "        vertical-align: middle;\n",
       "    }\n",
       "\n",
       "    .dataframe tbody tr th {\n",
       "        vertical-align: top;\n",
       "    }\n",
       "\n",
       "    .dataframe thead th {\n",
       "        text-align: right;\n",
       "    }\n",
       "</style>\n",
       "<table border=\"1\" class=\"dataframe\">\n",
       "  <thead>\n",
       "    <tr style=\"text-align: right;\">\n",
       "      <th></th>\n",
       "      <th>folder_path</th>\n",
       "      <th>image_path</th>\n",
       "      <th>target</th>\n",
       "    </tr>\n",
       "  </thead>\n",
       "  <tbody>\n",
       "    <tr>\n",
       "      <th>0</th>\n",
       "      <td>/home/jupyter-admin/datasets/MS-ASL/images/friend</td>\n",
       "      <td>/home/jupyter-admin/datasets/MS-ASL/images/fri...</td>\n",
       "      <td>1.0</td>\n",
       "    </tr>\n",
       "    <tr>\n",
       "      <th>1</th>\n",
       "      <td>/home/jupyter-admin/datasets/MS-ASL/images/friend</td>\n",
       "      <td>/home/jupyter-admin/datasets/MS-ASL/images/fri...</td>\n",
       "      <td>1.0</td>\n",
       "    </tr>\n",
       "    <tr>\n",
       "      <th>2</th>\n",
       "      <td>/home/jupyter-admin/datasets/MS-ASL/images/friend</td>\n",
       "      <td>/home/jupyter-admin/datasets/MS-ASL/images/fri...</td>\n",
       "      <td>1.0</td>\n",
       "    </tr>\n",
       "    <tr>\n",
       "      <th>3</th>\n",
       "      <td>/home/jupyter-admin/datasets/MS-ASL/images/friend</td>\n",
       "      <td>/home/jupyter-admin/datasets/MS-ASL/images/fri...</td>\n",
       "      <td>1.0</td>\n",
       "    </tr>\n",
       "    <tr>\n",
       "      <th>4</th>\n",
       "      <td>/home/jupyter-admin/datasets/MS-ASL/images/friend</td>\n",
       "      <td>/home/jupyter-admin/datasets/MS-ASL/images/fri...</td>\n",
       "      <td>1.0</td>\n",
       "    </tr>\n",
       "    <tr>\n",
       "      <th>...</th>\n",
       "      <td>...</td>\n",
       "      <td>...</td>\n",
       "      <td>...</td>\n",
       "    </tr>\n",
       "    <tr>\n",
       "      <th>54116</th>\n",
       "      <td>/home/jupyter-admin/datasets/MS-ASL/images/wall</td>\n",
       "      <td>/home/jupyter-admin/datasets/MS-ASL/images/wal...</td>\n",
       "      <td>3.0</td>\n",
       "    </tr>\n",
       "    <tr>\n",
       "      <th>54117</th>\n",
       "      <td>/home/jupyter-admin/datasets/MS-ASL/images/wall</td>\n",
       "      <td>/home/jupyter-admin/datasets/MS-ASL/images/wal...</td>\n",
       "      <td>3.0</td>\n",
       "    </tr>\n",
       "    <tr>\n",
       "      <th>54118</th>\n",
       "      <td>/home/jupyter-admin/datasets/MS-ASL/images/wall</td>\n",
       "      <td>/home/jupyter-admin/datasets/MS-ASL/images/wal...</td>\n",
       "      <td>3.0</td>\n",
       "    </tr>\n",
       "    <tr>\n",
       "      <th>54119</th>\n",
       "      <td>/home/jupyter-admin/datasets/MS-ASL/images/wall</td>\n",
       "      <td>/home/jupyter-admin/datasets/MS-ASL/images/wal...</td>\n",
       "      <td>3.0</td>\n",
       "    </tr>\n",
       "    <tr>\n",
       "      <th>54120</th>\n",
       "      <td>/home/jupyter-admin/datasets/MS-ASL/images/wall</td>\n",
       "      <td>/home/jupyter-admin/datasets/MS-ASL/images/wal...</td>\n",
       "      <td>3.0</td>\n",
       "    </tr>\n",
       "  </tbody>\n",
       "</table>\n",
       "<p>54121 rows × 3 columns</p>\n",
       "</div>"
      ],
      "text/plain": [
       "                                             folder_path   \n",
       "0      /home/jupyter-admin/datasets/MS-ASL/images/friend  \\\n",
       "1      /home/jupyter-admin/datasets/MS-ASL/images/friend   \n",
       "2      /home/jupyter-admin/datasets/MS-ASL/images/friend   \n",
       "3      /home/jupyter-admin/datasets/MS-ASL/images/friend   \n",
       "4      /home/jupyter-admin/datasets/MS-ASL/images/friend   \n",
       "...                                                  ...   \n",
       "54116    /home/jupyter-admin/datasets/MS-ASL/images/wall   \n",
       "54117    /home/jupyter-admin/datasets/MS-ASL/images/wall   \n",
       "54118    /home/jupyter-admin/datasets/MS-ASL/images/wall   \n",
       "54119    /home/jupyter-admin/datasets/MS-ASL/images/wall   \n",
       "54120    /home/jupyter-admin/datasets/MS-ASL/images/wall   \n",
       "\n",
       "                                              image_path  target  \n",
       "0      /home/jupyter-admin/datasets/MS-ASL/images/fri...     1.0  \n",
       "1      /home/jupyter-admin/datasets/MS-ASL/images/fri...     1.0  \n",
       "2      /home/jupyter-admin/datasets/MS-ASL/images/fri...     1.0  \n",
       "3      /home/jupyter-admin/datasets/MS-ASL/images/fri...     1.0  \n",
       "4      /home/jupyter-admin/datasets/MS-ASL/images/fri...     1.0  \n",
       "...                                                  ...     ...  \n",
       "54116  /home/jupyter-admin/datasets/MS-ASL/images/wal...     3.0  \n",
       "54117  /home/jupyter-admin/datasets/MS-ASL/images/wal...     3.0  \n",
       "54118  /home/jupyter-admin/datasets/MS-ASL/images/wal...     3.0  \n",
       "54119  /home/jupyter-admin/datasets/MS-ASL/images/wal...     3.0  \n",
       "54120  /home/jupyter-admin/datasets/MS-ASL/images/wal...     3.0  \n",
       "\n",
       "[54121 rows x 3 columns]"
      ]
     },
     "execution_count": 82,
     "metadata": {},
     "output_type": "execute_result"
    }
   ],
   "source": [
    "data"
   ]
  },
  {
   "cell_type": "code",
   "execution_count": 83,
   "metadata": {},
   "outputs": [
    {
     "name": "stdout",
     "output_type": "stream",
     "text": [
      "Number of labels or classes: 4\n",
      "The first one hot encoded labels: friend\n",
      "Mapping the first one hot encoded label to its category: deer\n",
      "Total instances: 54121\n",
      "Saving the binarized labels as pickled file\n",
      "                                         folder_path   \n",
      "0    /home/jupyter-admin/datasets/MS-ASL/images/deer  \\\n",
      "1  /home/jupyter-admin/datasets/MS-ASL/images/orange   \n",
      "2  /home/jupyter-admin/datasets/MS-ASL/images/orange   \n",
      "3  /home/jupyter-admin/datasets/MS-ASL/images/orange   \n",
      "4  /home/jupyter-admin/datasets/MS-ASL/images/orange   \n",
      "\n",
      "                                          image_path  target  \n",
      "0  /home/jupyter-admin/datasets/MS-ASL/images/dee...     0.0  \n",
      "1  /home/jupyter-admin/datasets/MS-ASL/images/ora...     2.0  \n",
      "2  /home/jupyter-admin/datasets/MS-ASL/images/ora...     2.0  \n",
      "3  /home/jupyter-admin/datasets/MS-ASL/images/ora...     2.0  \n",
      "4  /home/jupyter-admin/datasets/MS-ASL/images/ora...     2.0  \n"
     ]
    }
   ],
   "source": [
    "# shuffle the dataset\n",
    "data = data.sample(frac=1).reset_index(drop=True)\n",
    "print(f\"Number of labels or classes: {len(lb.classes_)}\")\n",
    "print(f\"The first one hot encoded labels: {labels[0]}\")\n",
    "print(f\"Mapping the first one hot encoded label to its category: {lb.classes_[0]}\")\n",
    "print(f\"Total instances: {len(data)}\")\n",
    " \n",
    "# save as CSV file\n",
    "data.to_csv(DIR_DATASET_MSASL + '/' + 'data.csv', index=False)\n",
    " \n",
    "# pickle the binarized labels\n",
    "print('Saving the binarized labels as pickled file')\n",
    "joblib.dump(lb, DIR_DATASET_MSASL + '/' + 'lb.pkl')\n",
    " \n",
    "print(data.head(5))"
   ]
  },
  {
   "cell_type": "markdown",
   "metadata": {},
   "source": [
    "#### CNN"
   ]
  },
  {
   "cell_type": "code",
   "execution_count": 87,
   "metadata": {},
   "outputs": [],
   "source": [
    "# load the binarized labels file\n",
    "lb = joblib.load(DIR_DATASET_MSASL + '/' + 'lb.pkl')\n",
    "\n",
    "class CustomCNN(nn.Module):\n",
    "    def __init__(self):\n",
    "        super(CustomCNN, self).__init__()\n",
    "        self.conv1 = nn.Conv2d(3, 16, 5)\n",
    "        self.conv2 = nn.Conv2d(16, 32, 5)\n",
    "        self.conv3 = nn.Conv2d(32, 64, 3)\n",
    "        self.conv4 = nn.Conv2d(64, 128, 5)\n",
    "\n",
    "        self.fc1 = nn.Linear(128, 256)\n",
    "        self.fc2 = nn.Linear(256, len(lb.classes_))\n",
    "\n",
    "        self.pool = nn.MaxPool2d(2, 2)\n",
    "        \n",
    "    def forward(self, x):\n",
    "        x = self.pool(F.relu(self.conv1(x)))\n",
    "        x = self.pool(F.relu(self.conv2(x)))\n",
    "        x = self.pool(F.relu(self.conv3(x)))\n",
    "        x = self.pool(F.relu(self.conv4(x)))\n",
    "        bs, _, _, _ = x.shape\n",
    "        x = F.adaptive_avg_pool2d(x, 1).reshape(bs, -1)\n",
    "        x = F.relu(self.fc1(x))\n",
    "        x = self.fc2(x)\n",
    "        return x"
   ]
  },
  {
   "cell_type": "code",
   "execution_count": 90,
   "metadata": {},
   "outputs": [
    {
     "name": "stdout",
     "output_type": "stream",
     "text": [
      "Training instances: 48708\n",
      "Validation instances: 5413\n"
     ]
    }
   ],
   "source": [
    "df = pd.read_csv(DIR_DATASET_MSASL + '/' + 'data.csv')\n",
    "X = df.image_path.values # image paths\n",
    "y = df.target.values # targets\n",
    "(xtrain, xtest, ytrain, ytest) = train_test_split(X, y,\n",
    "    test_size=0.10, random_state=42)\n",
    "\n",
    "print(f'Training instances: {len(xtrain)}')\n",
    "print(f'Validation instances: {len(xtest)}')"
   ]
  },
  {
   "cell_type": "code",
   "execution_count": 95,
   "metadata": {},
   "outputs": [],
   "source": [
    "# custom dataset\n",
    "class ImageDataset(Dataset):\n",
    "    def __init__(self, images, labels=None, tfms=None):\n",
    "        self.X = images\n",
    "        self.y = labels\n",
    "        # apply augmentations\n",
    "        if tfms == 0: # if validating\n",
    "            self.aug = albumentations.Compose([\n",
    "                albumentations.Resize(224, 224, always_apply=True),\n",
    "            ])\n",
    "        else: # if training\n",
    "            self.aug = albumentations.Compose([\n",
    "                albumentations.Resize(224, 224, always_apply=True),\n",
    "                albumentations.HorizontalFlip(p=0.5),\n",
    "                albumentations.ShiftScaleRotate(\n",
    "                    shift_limit=0.3,\n",
    "                    scale_limit=0.3,\n",
    "                    rotate_limit=15,\n",
    "                    p=0.5\n",
    "                ),\n",
    "            ])\n",
    "         \n",
    "    def __len__(self):\n",
    "        return (len(self.X))\n",
    "    \n",
    "    def __getitem__(self, i):\n",
    "        image = Image.open(self.X[i])\n",
    "        image = image.convert('RGB')\n",
    "        image = self.aug(image=np.array(image))['image']\n",
    "        image = np.transpose(image, (2, 0, 1)).astype(np.float32)\n",
    "        label = self.y[i]\n",
    "        return (torch.tensor(image, dtype=torch.float), torch.tensor(label, dtype=torch.long))"
   ]
  },
  {
   "cell_type": "code",
   "execution_count": 114,
   "metadata": {},
   "outputs": [],
   "source": [
    "# learning_parameters \n",
    "lr = 1e-3\n",
    "batch_size = 32\n",
    "epochs = 5"
   ]
  },
  {
   "cell_type": "code",
   "execution_count": 97,
   "metadata": {},
   "outputs": [],
   "source": [
    "train_data = ImageDataset(xtrain, ytrain, tfms=1)\n",
    "test_data = ImageDataset(xtest, ytest, tfms=0)\n",
    "\n",
    "# dataloaders\n",
    "trainloader = DataLoader(train_data, batch_size=batch_size, shuffle=True)\n",
    "testloader = DataLoader(test_data, batch_size=batch_size, shuffle=False)"
   ]
  },
  {
   "cell_type": "code",
   "execution_count": 117,
   "metadata": {},
   "outputs": [
    {
     "name": "stdout",
     "output_type": "stream",
     "text": [
      "CustomCNN(\n",
      "  (conv1): Conv2d(3, 16, kernel_size=(5, 5), stride=(1, 1))\n",
      "  (conv2): Conv2d(16, 32, kernel_size=(5, 5), stride=(1, 1))\n",
      "  (conv3): Conv2d(32, 64, kernel_size=(3, 3), stride=(1, 1))\n",
      "  (conv4): Conv2d(64, 128, kernel_size=(5, 5), stride=(1, 1))\n",
      "  (fc1): Linear(in_features=128, out_features=256, bias=True)\n",
      "  (fc2): Linear(in_features=256, out_features=4, bias=True)\n",
      "  (pool): MaxPool2d(kernel_size=2, stride=2, padding=0, dilation=1, ceil_mode=False)\n",
      ")\n"
     ]
    }
   ],
   "source": [
    "model = CustomCNN().to(device)\n",
    "print(model)"
   ]
  },
  {
   "cell_type": "code",
   "execution_count": 99,
   "metadata": {},
   "outputs": [
    {
     "name": "stdout",
     "output_type": "stream",
     "text": [
      "271,524 total parameters.\n",
      "271,524 training parameters.\n"
     ]
    }
   ],
   "source": [
    "# total parameters and trainable parameters\n",
    "total_params = sum(p.numel() for p in model.parameters())\n",
    "print(f\"{total_params:,} total parameters.\")\n",
    "\n",
    "total_trainable_params = sum(\n",
    "    p.numel() for p in model.parameters() if p.requires_grad)\n",
    "print(f\"{total_trainable_params:,} training parameters.\")"
   ]
  },
  {
   "cell_type": "code",
   "execution_count": 102,
   "metadata": {},
   "outputs": [],
   "source": [
    "# optimizer\n",
    "optimizer = optim.Adam(model.parameters(), lr=lr)\n",
    "\n",
    "# loss function\n",
    "criterion = nn.CrossEntropyLoss()"
   ]
  },
  {
   "cell_type": "code",
   "execution_count": 103,
   "metadata": {},
   "outputs": [],
   "source": [
    "scheduler = torch.optim.lr_scheduler.ReduceLROnPlateau( \n",
    "        optimizer,\n",
    "        mode='min',\n",
    "        patience=5,\n",
    "        factor=0.5,\n",
    "        min_lr=1e-6,\n",
    "        verbose=True\n",
    "    )"
   ]
  },
  {
   "cell_type": "code",
   "execution_count": 104,
   "metadata": {},
   "outputs": [],
   "source": [
    "# training function\n",
    "def fit(model, train_dataloader):\n",
    "    print('Training')\n",
    "    model.train()\n",
    "    train_running_loss = 0.0\n",
    "    train_running_correct = 0\n",
    "    for i, data in tqdm(enumerate(train_dataloader), total=int(len(train_data)/train_dataloader.batch_size)):\n",
    "        data, target = data[0].to(device), data[1].to(device)\n",
    "        optimizer.zero_grad()\n",
    "        outputs = model(data)\n",
    "        loss = criterion(outputs, target)\n",
    "        train_running_loss += loss.item()\n",
    "        _, preds = torch.max(outputs.data, 1)\n",
    "        train_running_correct += (preds == target).sum().item()\n",
    "        loss.backward()\n",
    "        optimizer.step()\n",
    "        \n",
    "    train_loss = train_running_loss/len(train_dataloader.dataset)\n",
    "    train_accuracy = 100. * train_running_correct/len(train_dataloader.dataset)\n",
    "    \n",
    "    print(f\"Train Loss: {train_loss:.4f}, Train Acc: {train_accuracy:.2f}\")\n",
    "    \n",
    "    return train_loss, train_accuracy"
   ]
  },
  {
   "cell_type": "code",
   "execution_count": 105,
   "metadata": {},
   "outputs": [],
   "source": [
    "#validation function\n",
    "def validate(model, test_dataloader):\n",
    "    print('Validating')\n",
    "    model.eval()\n",
    "    val_running_loss = 0.0\n",
    "    val_running_correct = 0\n",
    "    with torch.no_grad():\n",
    "        for i, data in tqdm(enumerate(test_dataloader), total=int(len(test_data)/test_dataloader.batch_size)):\n",
    "            data, target = data[0].to(device), data[1].to(device)\n",
    "            outputs = model(data)\n",
    "            loss = criterion(outputs, target)\n",
    "            \n",
    "            val_running_loss += loss.item()\n",
    "            _, preds = torch.max(outputs.data, 1)\n",
    "            val_running_correct += (preds == target).sum().item()\n",
    "        \n",
    "        val_loss = val_running_loss/len(test_dataloader.dataset)\n",
    "        val_accuracy = 100. * val_running_correct/len(test_dataloader.dataset)\n",
    "        print(f'Val Loss: {val_loss:.4f}, Val Acc: {val_accuracy:.2f}')\n",
    "        \n",
    "        return val_loss, val_accuracy"
   ]
  },
  {
   "cell_type": "code",
   "execution_count": 118,
   "metadata": {},
   "outputs": [
    {
     "name": "stdout",
     "output_type": "stream",
     "text": [
      "Epoch 1 of 5\n",
      "Training\n"
     ]
    },
    {
     "name": "stderr",
     "output_type": "stream",
     "text": [
      "  0%|          | 0/1522 [00:00<?, ?it/s]/tmp/ipykernel_4158/2901073747.py:32: DeprecationWarning: an integer is required (got type numpy.float64).  Implicit conversion to integers using __int__ is deprecated, and may be removed in a future version of Python.\n",
      "  return (torch.tensor(image, dtype=torch.float), torch.tensor(label, dtype=torch.long))\n",
      "1523it [15:25,  1.65it/s]                          \n"
     ]
    },
    {
     "name": "stdout",
     "output_type": "stream",
     "text": [
      "Train Loss: 0.0382, Train Acc: 55.52\n",
      "Validating\n"
     ]
    },
    {
     "name": "stderr",
     "output_type": "stream",
     "text": [
      "170it [01:06,  2.56it/s]                         \n"
     ]
    },
    {
     "name": "stdout",
     "output_type": "stream",
     "text": [
      "Val Loss: 0.0381, Val Acc: 56.33\n",
      "Epoch 2 of 5\n",
      "Training\n"
     ]
    },
    {
     "name": "stderr",
     "output_type": "stream",
     "text": [
      "1523it [13:29,  1.88it/s]                          \n"
     ]
    },
    {
     "name": "stdout",
     "output_type": "stream",
     "text": [
      "Train Loss: 0.0382, Train Acc: 55.54\n",
      "Validating\n"
     ]
    },
    {
     "name": "stderr",
     "output_type": "stream",
     "text": [
      "170it [00:43,  3.90it/s]                         \n"
     ]
    },
    {
     "name": "stdout",
     "output_type": "stream",
     "text": [
      "Val Loss: 0.0381, Val Acc: 56.33\n",
      "Epoch 3 of 5\n",
      "Training\n"
     ]
    },
    {
     "name": "stderr",
     "output_type": "stream",
     "text": [
      "1523it [13:35,  1.87it/s]                          \n"
     ]
    },
    {
     "name": "stdout",
     "output_type": "stream",
     "text": [
      "Train Loss: 0.0382, Train Acc: 55.56\n",
      "Validating\n"
     ]
    },
    {
     "name": "stderr",
     "output_type": "stream",
     "text": [
      "170it [00:42,  3.96it/s]                         \n"
     ]
    },
    {
     "name": "stdout",
     "output_type": "stream",
     "text": [
      "Val Loss: 0.0381, Val Acc: 56.33\n",
      "Epoch 4 of 5\n",
      "Training\n"
     ]
    },
    {
     "name": "stderr",
     "output_type": "stream",
     "text": [
      "1523it [13:26,  1.89it/s]                          \n"
     ]
    },
    {
     "name": "stdout",
     "output_type": "stream",
     "text": [
      "Train Loss: 0.0382, Train Acc: 55.55\n",
      "Validating\n"
     ]
    },
    {
     "name": "stderr",
     "output_type": "stream",
     "text": [
      "170it [00:42,  4.00it/s]                         \n"
     ]
    },
    {
     "name": "stdout",
     "output_type": "stream",
     "text": [
      "Val Loss: 0.0381, Val Acc: 56.33\n",
      "Epoch 5 of 5\n",
      "Training\n"
     ]
    },
    {
     "name": "stderr",
     "output_type": "stream",
     "text": [
      "1523it [13:29,  1.88it/s]                          \n"
     ]
    },
    {
     "name": "stdout",
     "output_type": "stream",
     "text": [
      "Train Loss: 0.0382, Train Acc: 55.54\n",
      "Validating\n"
     ]
    },
    {
     "name": "stderr",
     "output_type": "stream",
     "text": [
      "170it [00:43,  3.91it/s]                         "
     ]
    },
    {
     "name": "stdout",
     "output_type": "stream",
     "text": [
      "Val Loss: 0.0381, Val Acc: 56.33\n",
      "73.428 minutes\n"
     ]
    },
    {
     "name": "stderr",
     "output_type": "stream",
     "text": [
      "\n"
     ]
    }
   ],
   "source": [
    "train_loss, train_accuracy = [], []\n",
    "val_loss, val_accuracy = [], []\n",
    "start = time.time()\n",
    "for epoch in range(epochs):\n",
    "    print(f'Epoch {epoch+1} of {epochs}')\n",
    "    train_epoch_loss, train_epoch_accuracy = fit(model, trainloader)\n",
    "    val_epoch_loss, val_epoch_accuracy = validate(model, testloader)\n",
    "    train_loss.append(train_epoch_loss)\n",
    "    train_accuracy.append(train_epoch_accuracy)\n",
    "    val_loss.append(val_epoch_loss)\n",
    "    val_accuracy.append(val_epoch_accuracy)\n",
    "    scheduler.step(val_epoch_loss)\n",
    "end = time.time()\n",
    "print(f'{(end-start)/60:.3f} minutes')"
   ]
  },
  {
   "cell_type": "code",
   "execution_count": 122,
   "metadata": {},
   "outputs": [
    {
     "data": {
      "image/png": "[encoded data removed]",
      "text/plain": [
       "<Figure size 1000x700 with 1 Axes>"
      ]
     },
     "metadata": {},
     "output_type": "display_data"
    },
    {
     "data": {
      "image/png": "[encoded data removed]",
      "text/plain": [
       "<Figure size 1000x700 with 1 Axes>"
      ]
     },
     "metadata": {},
     "output_type": "display_data"
    }
   ],
   "source": [
    "# accuracy plots\n",
    "plt.figure(figsize=(10, 7))\n",
    "plt.plot(train_accuracy, color='green', label='train accuracy')\n",
    "plt.plot(val_accuracy, color='blue', label='validataion accuracy')\n",
    "plt.xlabel('Epochs')\n",
    "plt.ylabel('Accuracy')\n",
    "plt.legend()\n",
    "plt.savefig(DIR_DATASET_MSASL + '/' + 'accuracy.png')\n",
    "plt.show()\n",
    "\n",
    "# loss plots\n",
    "plt.figure(figsize=(10, 7))\n",
    "plt.plot(train_loss, color='orange', label='train loss')\n",
    "plt.plot(val_loss, color='red', label='validataion loss')\n",
    "plt.xlabel('Epochs')\n",
    "plt.ylabel('Loss')\n",
    "plt.legend()\n",
    "plt.savefig(DIR_DATASET_MSASL + '/' + 'loss.png')\n",
    "plt.show()"
   ]
  }
 ],
 "metadata": {
  "kernelspec": {
   "display_name": "Python 3.9 (tf+gpu)",
   "language": "python",
   "name": "python_gpu"
  },
  "language_info": {
   "codemirror_mode": {
    "name": "ipython",
    "version": 3
   },
   "file_extension": ".py",
   "mimetype": "text/x-python",
   "name": "python",
   "nbconvert_exporter": "python",
   "pygments_lexer": "ipython3",
   "version": "3.9.16"
  },
  "orig_nbformat": 4
 },
 "nbformat": 4,
 "nbformat_minor": 2
}
